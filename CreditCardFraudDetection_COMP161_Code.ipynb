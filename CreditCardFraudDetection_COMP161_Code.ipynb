{
  "nbformat": 4,
  "nbformat_minor": 0,
  "metadata": {
    "colab": {
      "provenance": [],
      "authorship_tag": "ABX9TyNMi7S2NumKo+2DRofGfhRE",
      "include_colab_link": true
    },
    "kernelspec": {
      "name": "python3",
      "display_name": "Python 3"
    },
    "language_info": {
      "name": "python"
    }
  },
  "cells": [
    {
      "cell_type": "markdown",
      "metadata": {
        "id": "view-in-github",
        "colab_type": "text"
      },
      "source": [
        "<a href=\"https://colab.research.google.com/github/aukarthik/fraud-detection/blob/main/CreditCardFraudDetection_COMP161_Code.ipynb\" target=\"_parent\"><img src=\"https://colab.research.google.com/assets/colab-badge.svg\" alt=\"Open In Colab\"/></a>"
      ]
    },
    {
      "cell_type": "code",
      "execution_count": null,
      "metadata": {
        "colab": {
          "base_uri": "https://localhost:8080/"
        },
        "id": "QY--k3KHnfff",
        "outputId": "651dc403-9263-4391-b59d-671d1ad42d42"
      },
      "outputs": [
        {
          "output_type": "stream",
          "name": "stdout",
          "text": [
            "Dataset URL: https://www.kaggle.com/datasets/mlg-ulb/creditcardfraud\n",
            "License(s): DbCL-1.0\n",
            "Archive:  creditcardfraud.zip\n",
            "  inflating: creditcard.csv          \n"
          ]
        }
      ],
      "source": [
        "!mkdir ~/.kaggle\n",
        "!cp kaggle.json ~/.kaggle/\n",
        "!chmod 600 ~/.kaggle/kaggle.json\n",
        "!kaggle datasets download -d mlg-ulb/creditcardfraud\n",
        "!unzip creditcardfraud.zip"
      ]
    },
    {
      "cell_type": "code",
      "source": [
        "import numpy as np\n",
        "import pandas as pd\n",
        "import matplotlib.pyplot as plt\n",
        "import seaborn as sns\n",
        "import sklearn\n",
        "import pickle\n",
        "\n",
        "\n",
        "%matplotlib inline"
      ],
      "metadata": {
        "id": "7h5ER4GWolcN"
      },
      "execution_count": null,
      "outputs": []
    },
    {
      "cell_type": "code",
      "source": [
        "import pandas as pd\n",
        "df = pd.read_csv('creditcard.csv')\n",
        "df.columns = df.columns.str.lower() # Lowe case all the columns\n",
        "df"
      ],
      "metadata": {
        "colab": {
          "base_uri": "https://localhost:8080/",
          "height": 443
        },
        "id": "WrN0O2Ksn2zo",
        "outputId": "65cd31f5-f70e-4079-9d34-89975be98af1"
      },
      "execution_count": null,
      "outputs": [
        {
          "output_type": "execute_result",
          "data": {
            "text/plain": [
              "            time         v1         v2        v3        v4        v5  \\\n",
              "0            0.0  -1.359807  -0.072781  2.536347  1.378155 -0.338321   \n",
              "1            0.0   1.191857   0.266151  0.166480  0.448154  0.060018   \n",
              "2            1.0  -1.358354  -1.340163  1.773209  0.379780 -0.503198   \n",
              "3            1.0  -0.966272  -0.185226  1.792993 -0.863291 -0.010309   \n",
              "4            2.0  -1.158233   0.877737  1.548718  0.403034 -0.407193   \n",
              "...          ...        ...        ...       ...       ...       ...   \n",
              "284802  172786.0 -11.881118  10.071785 -9.834783 -2.066656 -5.364473   \n",
              "284803  172787.0  -0.732789  -0.055080  2.035030 -0.738589  0.868229   \n",
              "284804  172788.0   1.919565  -0.301254 -3.249640 -0.557828  2.630515   \n",
              "284805  172788.0  -0.240440   0.530483  0.702510  0.689799 -0.377961   \n",
              "284806  172792.0  -0.533413  -0.189733  0.703337 -0.506271 -0.012546   \n",
              "\n",
              "              v6        v7        v8        v9  ...       v21       v22  \\\n",
              "0       0.462388  0.239599  0.098698  0.363787  ... -0.018307  0.277838   \n",
              "1      -0.082361 -0.078803  0.085102 -0.255425  ... -0.225775 -0.638672   \n",
              "2       1.800499  0.791461  0.247676 -1.514654  ...  0.247998  0.771679   \n",
              "3       1.247203  0.237609  0.377436 -1.387024  ... -0.108300  0.005274   \n",
              "4       0.095921  0.592941 -0.270533  0.817739  ... -0.009431  0.798278   \n",
              "...          ...       ...       ...       ...  ...       ...       ...   \n",
              "284802 -2.606837 -4.918215  7.305334  1.914428  ...  0.213454  0.111864   \n",
              "284803  1.058415  0.024330  0.294869  0.584800  ...  0.214205  0.924384   \n",
              "284804  3.031260 -0.296827  0.708417  0.432454  ...  0.232045  0.578229   \n",
              "284805  0.623708 -0.686180  0.679145  0.392087  ...  0.265245  0.800049   \n",
              "284806 -0.649617  1.577006 -0.414650  0.486180  ...  0.261057  0.643078   \n",
              "\n",
              "             v23       v24       v25       v26       v27       v28  amount  \\\n",
              "0      -0.110474  0.066928  0.128539 -0.189115  0.133558 -0.021053  149.62   \n",
              "1       0.101288 -0.339846  0.167170  0.125895 -0.008983  0.014724    2.69   \n",
              "2       0.909412 -0.689281 -0.327642 -0.139097 -0.055353 -0.059752  378.66   \n",
              "3      -0.190321 -1.175575  0.647376 -0.221929  0.062723  0.061458  123.50   \n",
              "4      -0.137458  0.141267 -0.206010  0.502292  0.219422  0.215153   69.99   \n",
              "...          ...       ...       ...       ...       ...       ...     ...   \n",
              "284802  1.014480 -0.509348  1.436807  0.250034  0.943651  0.823731    0.77   \n",
              "284803  0.012463 -1.016226 -0.606624 -0.395255  0.068472 -0.053527   24.79   \n",
              "284804 -0.037501  0.640134  0.265745 -0.087371  0.004455 -0.026561   67.88   \n",
              "284805 -0.163298  0.123205 -0.569159  0.546668  0.108821  0.104533   10.00   \n",
              "284806  0.376777  0.008797 -0.473649 -0.818267 -0.002415  0.013649  217.00   \n",
              "\n",
              "        class  \n",
              "0           0  \n",
              "1           0  \n",
              "2           0  \n",
              "3           0  \n",
              "4           0  \n",
              "...       ...  \n",
              "284802      0  \n",
              "284803      0  \n",
              "284804      0  \n",
              "284805      0  \n",
              "284806      0  \n",
              "\n",
              "[284807 rows x 31 columns]"
            ],
            "text/html": [
              "\n",
              "  <div id=\"df-a54d8d64-5410-4ba1-967e-65894122eb3e\" class=\"colab-df-container\">\n",
              "    <div>\n",
              "<style scoped>\n",
              "    .dataframe tbody tr th:only-of-type {\n",
              "        vertical-align: middle;\n",
              "    }\n",
              "\n",
              "    .dataframe tbody tr th {\n",
              "        vertical-align: top;\n",
              "    }\n",
              "\n",
              "    .dataframe thead th {\n",
              "        text-align: right;\n",
              "    }\n",
              "</style>\n",
              "<table border=\"1\" class=\"dataframe\">\n",
              "  <thead>\n",
              "    <tr style=\"text-align: right;\">\n",
              "      <th></th>\n",
              "      <th>time</th>\n",
              "      <th>v1</th>\n",
              "      <th>v2</th>\n",
              "      <th>v3</th>\n",
              "      <th>v4</th>\n",
              "      <th>v5</th>\n",
              "      <th>v6</th>\n",
              "      <th>v7</th>\n",
              "      <th>v8</th>\n",
              "      <th>v9</th>\n",
              "      <th>...</th>\n",
              "      <th>v21</th>\n",
              "      <th>v22</th>\n",
              "      <th>v23</th>\n",
              "      <th>v24</th>\n",
              "      <th>v25</th>\n",
              "      <th>v26</th>\n",
              "      <th>v27</th>\n",
              "      <th>v28</th>\n",
              "      <th>amount</th>\n",
              "      <th>class</th>\n",
              "    </tr>\n",
              "  </thead>\n",
              "  <tbody>\n",
              "    <tr>\n",
              "      <th>0</th>\n",
              "      <td>0.0</td>\n",
              "      <td>-1.359807</td>\n",
              "      <td>-0.072781</td>\n",
              "      <td>2.536347</td>\n",
              "      <td>1.378155</td>\n",
              "      <td>-0.338321</td>\n",
              "      <td>0.462388</td>\n",
              "      <td>0.239599</td>\n",
              "      <td>0.098698</td>\n",
              "      <td>0.363787</td>\n",
              "      <td>...</td>\n",
              "      <td>-0.018307</td>\n",
              "      <td>0.277838</td>\n",
              "      <td>-0.110474</td>\n",
              "      <td>0.066928</td>\n",
              "      <td>0.128539</td>\n",
              "      <td>-0.189115</td>\n",
              "      <td>0.133558</td>\n",
              "      <td>-0.021053</td>\n",
              "      <td>149.62</td>\n",
              "      <td>0</td>\n",
              "    </tr>\n",
              "    <tr>\n",
              "      <th>1</th>\n",
              "      <td>0.0</td>\n",
              "      <td>1.191857</td>\n",
              "      <td>0.266151</td>\n",
              "      <td>0.166480</td>\n",
              "      <td>0.448154</td>\n",
              "      <td>0.060018</td>\n",
              "      <td>-0.082361</td>\n",
              "      <td>-0.078803</td>\n",
              "      <td>0.085102</td>\n",
              "      <td>-0.255425</td>\n",
              "      <td>...</td>\n",
              "      <td>-0.225775</td>\n",
              "      <td>-0.638672</td>\n",
              "      <td>0.101288</td>\n",
              "      <td>-0.339846</td>\n",
              "      <td>0.167170</td>\n",
              "      <td>0.125895</td>\n",
              "      <td>-0.008983</td>\n",
              "      <td>0.014724</td>\n",
              "      <td>2.69</td>\n",
              "      <td>0</td>\n",
              "    </tr>\n",
              "    <tr>\n",
              "      <th>2</th>\n",
              "      <td>1.0</td>\n",
              "      <td>-1.358354</td>\n",
              "      <td>-1.340163</td>\n",
              "      <td>1.773209</td>\n",
              "      <td>0.379780</td>\n",
              "      <td>-0.503198</td>\n",
              "      <td>1.800499</td>\n",
              "      <td>0.791461</td>\n",
              "      <td>0.247676</td>\n",
              "      <td>-1.514654</td>\n",
              "      <td>...</td>\n",
              "      <td>0.247998</td>\n",
              "      <td>0.771679</td>\n",
              "      <td>0.909412</td>\n",
              "      <td>-0.689281</td>\n",
              "      <td>-0.327642</td>\n",
              "      <td>-0.139097</td>\n",
              "      <td>-0.055353</td>\n",
              "      <td>-0.059752</td>\n",
              "      <td>378.66</td>\n",
              "      <td>0</td>\n",
              "    </tr>\n",
              "    <tr>\n",
              "      <th>3</th>\n",
              "      <td>1.0</td>\n",
              "      <td>-0.966272</td>\n",
              "      <td>-0.185226</td>\n",
              "      <td>1.792993</td>\n",
              "      <td>-0.863291</td>\n",
              "      <td>-0.010309</td>\n",
              "      <td>1.247203</td>\n",
              "      <td>0.237609</td>\n",
              "      <td>0.377436</td>\n",
              "      <td>-1.387024</td>\n",
              "      <td>...</td>\n",
              "      <td>-0.108300</td>\n",
              "      <td>0.005274</td>\n",
              "      <td>-0.190321</td>\n",
              "      <td>-1.175575</td>\n",
              "      <td>0.647376</td>\n",
              "      <td>-0.221929</td>\n",
              "      <td>0.062723</td>\n",
              "      <td>0.061458</td>\n",
              "      <td>123.50</td>\n",
              "      <td>0</td>\n",
              "    </tr>\n",
              "    <tr>\n",
              "      <th>4</th>\n",
              "      <td>2.0</td>\n",
              "      <td>-1.158233</td>\n",
              "      <td>0.877737</td>\n",
              "      <td>1.548718</td>\n",
              "      <td>0.403034</td>\n",
              "      <td>-0.407193</td>\n",
              "      <td>0.095921</td>\n",
              "      <td>0.592941</td>\n",
              "      <td>-0.270533</td>\n",
              "      <td>0.817739</td>\n",
              "      <td>...</td>\n",
              "      <td>-0.009431</td>\n",
              "      <td>0.798278</td>\n",
              "      <td>-0.137458</td>\n",
              "      <td>0.141267</td>\n",
              "      <td>-0.206010</td>\n",
              "      <td>0.502292</td>\n",
              "      <td>0.219422</td>\n",
              "      <td>0.215153</td>\n",
              "      <td>69.99</td>\n",
              "      <td>0</td>\n",
              "    </tr>\n",
              "    <tr>\n",
              "      <th>...</th>\n",
              "      <td>...</td>\n",
              "      <td>...</td>\n",
              "      <td>...</td>\n",
              "      <td>...</td>\n",
              "      <td>...</td>\n",
              "      <td>...</td>\n",
              "      <td>...</td>\n",
              "      <td>...</td>\n",
              "      <td>...</td>\n",
              "      <td>...</td>\n",
              "      <td>...</td>\n",
              "      <td>...</td>\n",
              "      <td>...</td>\n",
              "      <td>...</td>\n",
              "      <td>...</td>\n",
              "      <td>...</td>\n",
              "      <td>...</td>\n",
              "      <td>...</td>\n",
              "      <td>...</td>\n",
              "      <td>...</td>\n",
              "      <td>...</td>\n",
              "    </tr>\n",
              "    <tr>\n",
              "      <th>284802</th>\n",
              "      <td>172786.0</td>\n",
              "      <td>-11.881118</td>\n",
              "      <td>10.071785</td>\n",
              "      <td>-9.834783</td>\n",
              "      <td>-2.066656</td>\n",
              "      <td>-5.364473</td>\n",
              "      <td>-2.606837</td>\n",
              "      <td>-4.918215</td>\n",
              "      <td>7.305334</td>\n",
              "      <td>1.914428</td>\n",
              "      <td>...</td>\n",
              "      <td>0.213454</td>\n",
              "      <td>0.111864</td>\n",
              "      <td>1.014480</td>\n",
              "      <td>-0.509348</td>\n",
              "      <td>1.436807</td>\n",
              "      <td>0.250034</td>\n",
              "      <td>0.943651</td>\n",
              "      <td>0.823731</td>\n",
              "      <td>0.77</td>\n",
              "      <td>0</td>\n",
              "    </tr>\n",
              "    <tr>\n",
              "      <th>284803</th>\n",
              "      <td>172787.0</td>\n",
              "      <td>-0.732789</td>\n",
              "      <td>-0.055080</td>\n",
              "      <td>2.035030</td>\n",
              "      <td>-0.738589</td>\n",
              "      <td>0.868229</td>\n",
              "      <td>1.058415</td>\n",
              "      <td>0.024330</td>\n",
              "      <td>0.294869</td>\n",
              "      <td>0.584800</td>\n",
              "      <td>...</td>\n",
              "      <td>0.214205</td>\n",
              "      <td>0.924384</td>\n",
              "      <td>0.012463</td>\n",
              "      <td>-1.016226</td>\n",
              "      <td>-0.606624</td>\n",
              "      <td>-0.395255</td>\n",
              "      <td>0.068472</td>\n",
              "      <td>-0.053527</td>\n",
              "      <td>24.79</td>\n",
              "      <td>0</td>\n",
              "    </tr>\n",
              "    <tr>\n",
              "      <th>284804</th>\n",
              "      <td>172788.0</td>\n",
              "      <td>1.919565</td>\n",
              "      <td>-0.301254</td>\n",
              "      <td>-3.249640</td>\n",
              "      <td>-0.557828</td>\n",
              "      <td>2.630515</td>\n",
              "      <td>3.031260</td>\n",
              "      <td>-0.296827</td>\n",
              "      <td>0.708417</td>\n",
              "      <td>0.432454</td>\n",
              "      <td>...</td>\n",
              "      <td>0.232045</td>\n",
              "      <td>0.578229</td>\n",
              "      <td>-0.037501</td>\n",
              "      <td>0.640134</td>\n",
              "      <td>0.265745</td>\n",
              "      <td>-0.087371</td>\n",
              "      <td>0.004455</td>\n",
              "      <td>-0.026561</td>\n",
              "      <td>67.88</td>\n",
              "      <td>0</td>\n",
              "    </tr>\n",
              "    <tr>\n",
              "      <th>284805</th>\n",
              "      <td>172788.0</td>\n",
              "      <td>-0.240440</td>\n",
              "      <td>0.530483</td>\n",
              "      <td>0.702510</td>\n",
              "      <td>0.689799</td>\n",
              "      <td>-0.377961</td>\n",
              "      <td>0.623708</td>\n",
              "      <td>-0.686180</td>\n",
              "      <td>0.679145</td>\n",
              "      <td>0.392087</td>\n",
              "      <td>...</td>\n",
              "      <td>0.265245</td>\n",
              "      <td>0.800049</td>\n",
              "      <td>-0.163298</td>\n",
              "      <td>0.123205</td>\n",
              "      <td>-0.569159</td>\n",
              "      <td>0.546668</td>\n",
              "      <td>0.108821</td>\n",
              "      <td>0.104533</td>\n",
              "      <td>10.00</td>\n",
              "      <td>0</td>\n",
              "    </tr>\n",
              "    <tr>\n",
              "      <th>284806</th>\n",
              "      <td>172792.0</td>\n",
              "      <td>-0.533413</td>\n",
              "      <td>-0.189733</td>\n",
              "      <td>0.703337</td>\n",
              "      <td>-0.506271</td>\n",
              "      <td>-0.012546</td>\n",
              "      <td>-0.649617</td>\n",
              "      <td>1.577006</td>\n",
              "      <td>-0.414650</td>\n",
              "      <td>0.486180</td>\n",
              "      <td>...</td>\n",
              "      <td>0.261057</td>\n",
              "      <td>0.643078</td>\n",
              "      <td>0.376777</td>\n",
              "      <td>0.008797</td>\n",
              "      <td>-0.473649</td>\n",
              "      <td>-0.818267</td>\n",
              "      <td>-0.002415</td>\n",
              "      <td>0.013649</td>\n",
              "      <td>217.00</td>\n",
              "      <td>0</td>\n",
              "    </tr>\n",
              "  </tbody>\n",
              "</table>\n",
              "<p>284807 rows × 31 columns</p>\n",
              "</div>\n",
              "    <div class=\"colab-df-buttons\">\n",
              "\n",
              "  <div class=\"colab-df-container\">\n",
              "    <button class=\"colab-df-convert\" onclick=\"convertToInteractive('df-a54d8d64-5410-4ba1-967e-65894122eb3e')\"\n",
              "            title=\"Convert this dataframe to an interactive table.\"\n",
              "            style=\"display:none;\">\n",
              "\n",
              "  <svg xmlns=\"http://www.w3.org/2000/svg\" height=\"24px\" viewBox=\"0 -960 960 960\">\n",
              "    <path d=\"M120-120v-720h720v720H120Zm60-500h600v-160H180v160Zm220 220h160v-160H400v160Zm0 220h160v-160H400v160ZM180-400h160v-160H180v160Zm440 0h160v-160H620v160ZM180-180h160v-160H180v160Zm440 0h160v-160H620v160Z\"/>\n",
              "  </svg>\n",
              "    </button>\n",
              "\n",
              "  <style>\n",
              "    .colab-df-container {\n",
              "      display:flex;\n",
              "      gap: 12px;\n",
              "    }\n",
              "\n",
              "    .colab-df-convert {\n",
              "      background-color: #E8F0FE;\n",
              "      border: none;\n",
              "      border-radius: 50%;\n",
              "      cursor: pointer;\n",
              "      display: none;\n",
              "      fill: #1967D2;\n",
              "      height: 32px;\n",
              "      padding: 0 0 0 0;\n",
              "      width: 32px;\n",
              "    }\n",
              "\n",
              "    .colab-df-convert:hover {\n",
              "      background-color: #E2EBFA;\n",
              "      box-shadow: 0px 1px 2px rgba(60, 64, 67, 0.3), 0px 1px 3px 1px rgba(60, 64, 67, 0.15);\n",
              "      fill: #174EA6;\n",
              "    }\n",
              "\n",
              "    .colab-df-buttons div {\n",
              "      margin-bottom: 4px;\n",
              "    }\n",
              "\n",
              "    [theme=dark] .colab-df-convert {\n",
              "      background-color: #3B4455;\n",
              "      fill: #D2E3FC;\n",
              "    }\n",
              "\n",
              "    [theme=dark] .colab-df-convert:hover {\n",
              "      background-color: #434B5C;\n",
              "      box-shadow: 0px 1px 3px 1px rgba(0, 0, 0, 0.15);\n",
              "      filter: drop-shadow(0px 1px 2px rgba(0, 0, 0, 0.3));\n",
              "      fill: #FFFFFF;\n",
              "    }\n",
              "  </style>\n",
              "\n",
              "    <script>\n",
              "      const buttonEl =\n",
              "        document.querySelector('#df-a54d8d64-5410-4ba1-967e-65894122eb3e button.colab-df-convert');\n",
              "      buttonEl.style.display =\n",
              "        google.colab.kernel.accessAllowed ? 'block' : 'none';\n",
              "\n",
              "      async function convertToInteractive(key) {\n",
              "        const element = document.querySelector('#df-a54d8d64-5410-4ba1-967e-65894122eb3e');\n",
              "        const dataTable =\n",
              "          await google.colab.kernel.invokeFunction('convertToInteractive',\n",
              "                                                    [key], {});\n",
              "        if (!dataTable) return;\n",
              "\n",
              "        const docLinkHtml = 'Like what you see? Visit the ' +\n",
              "          '<a target=\"_blank\" href=https://colab.research.google.com/notebooks/data_table.ipynb>data table notebook</a>'\n",
              "          + ' to learn more about interactive tables.';\n",
              "        element.innerHTML = '';\n",
              "        dataTable['output_type'] = 'display_data';\n",
              "        await google.colab.output.renderOutput(dataTable, element);\n",
              "        const docLink = document.createElement('div');\n",
              "        docLink.innerHTML = docLinkHtml;\n",
              "        element.appendChild(docLink);\n",
              "      }\n",
              "    </script>\n",
              "  </div>\n",
              "\n",
              "\n",
              "    <div id=\"df-0dae4802-db2a-4b45-b178-00eaee0fff56\">\n",
              "      <button class=\"colab-df-quickchart\" onclick=\"quickchart('df-0dae4802-db2a-4b45-b178-00eaee0fff56')\"\n",
              "                title=\"Suggest charts\"\n",
              "                style=\"display:none;\">\n",
              "\n",
              "<svg xmlns=\"http://www.w3.org/2000/svg\" height=\"24px\"viewBox=\"0 0 24 24\"\n",
              "     width=\"24px\">\n",
              "    <g>\n",
              "        <path d=\"M19 3H5c-1.1 0-2 .9-2 2v14c0 1.1.9 2 2 2h14c1.1 0 2-.9 2-2V5c0-1.1-.9-2-2-2zM9 17H7v-7h2v7zm4 0h-2V7h2v10zm4 0h-2v-4h2v4z\"/>\n",
              "    </g>\n",
              "</svg>\n",
              "      </button>\n",
              "\n",
              "<style>\n",
              "  .colab-df-quickchart {\n",
              "      --bg-color: #E8F0FE;\n",
              "      --fill-color: #1967D2;\n",
              "      --hover-bg-color: #E2EBFA;\n",
              "      --hover-fill-color: #174EA6;\n",
              "      --disabled-fill-color: #AAA;\n",
              "      --disabled-bg-color: #DDD;\n",
              "  }\n",
              "\n",
              "  [theme=dark] .colab-df-quickchart {\n",
              "      --bg-color: #3B4455;\n",
              "      --fill-color: #D2E3FC;\n",
              "      --hover-bg-color: #434B5C;\n",
              "      --hover-fill-color: #FFFFFF;\n",
              "      --disabled-bg-color: #3B4455;\n",
              "      --disabled-fill-color: #666;\n",
              "  }\n",
              "\n",
              "  .colab-df-quickchart {\n",
              "    background-color: var(--bg-color);\n",
              "    border: none;\n",
              "    border-radius: 50%;\n",
              "    cursor: pointer;\n",
              "    display: none;\n",
              "    fill: var(--fill-color);\n",
              "    height: 32px;\n",
              "    padding: 0;\n",
              "    width: 32px;\n",
              "  }\n",
              "\n",
              "  .colab-df-quickchart:hover {\n",
              "    background-color: var(--hover-bg-color);\n",
              "    box-shadow: 0 1px 2px rgba(60, 64, 67, 0.3), 0 1px 3px 1px rgba(60, 64, 67, 0.15);\n",
              "    fill: var(--button-hover-fill-color);\n",
              "  }\n",
              "\n",
              "  .colab-df-quickchart-complete:disabled,\n",
              "  .colab-df-quickchart-complete:disabled:hover {\n",
              "    background-color: var(--disabled-bg-color);\n",
              "    fill: var(--disabled-fill-color);\n",
              "    box-shadow: none;\n",
              "  }\n",
              "\n",
              "  .colab-df-spinner {\n",
              "    border: 2px solid var(--fill-color);\n",
              "    border-color: transparent;\n",
              "    border-bottom-color: var(--fill-color);\n",
              "    animation:\n",
              "      spin 1s steps(1) infinite;\n",
              "  }\n",
              "\n",
              "  @keyframes spin {\n",
              "    0% {\n",
              "      border-color: transparent;\n",
              "      border-bottom-color: var(--fill-color);\n",
              "      border-left-color: var(--fill-color);\n",
              "    }\n",
              "    20% {\n",
              "      border-color: transparent;\n",
              "      border-left-color: var(--fill-color);\n",
              "      border-top-color: var(--fill-color);\n",
              "    }\n",
              "    30% {\n",
              "      border-color: transparent;\n",
              "      border-left-color: var(--fill-color);\n",
              "      border-top-color: var(--fill-color);\n",
              "      border-right-color: var(--fill-color);\n",
              "    }\n",
              "    40% {\n",
              "      border-color: transparent;\n",
              "      border-right-color: var(--fill-color);\n",
              "      border-top-color: var(--fill-color);\n",
              "    }\n",
              "    60% {\n",
              "      border-color: transparent;\n",
              "      border-right-color: var(--fill-color);\n",
              "    }\n",
              "    80% {\n",
              "      border-color: transparent;\n",
              "      border-right-color: var(--fill-color);\n",
              "      border-bottom-color: var(--fill-color);\n",
              "    }\n",
              "    90% {\n",
              "      border-color: transparent;\n",
              "      border-bottom-color: var(--fill-color);\n",
              "    }\n",
              "  }\n",
              "</style>\n",
              "\n",
              "      <script>\n",
              "        async function quickchart(key) {\n",
              "          const quickchartButtonEl =\n",
              "            document.querySelector('#' + key + ' button');\n",
              "          quickchartButtonEl.disabled = true;  // To prevent multiple clicks.\n",
              "          quickchartButtonEl.classList.add('colab-df-spinner');\n",
              "          try {\n",
              "            const charts = await google.colab.kernel.invokeFunction(\n",
              "                'suggestCharts', [key], {});\n",
              "          } catch (error) {\n",
              "            console.error('Error during call to suggestCharts:', error);\n",
              "          }\n",
              "          quickchartButtonEl.classList.remove('colab-df-spinner');\n",
              "          quickchartButtonEl.classList.add('colab-df-quickchart-complete');\n",
              "        }\n",
              "        (() => {\n",
              "          let quickchartButtonEl =\n",
              "            document.querySelector('#df-0dae4802-db2a-4b45-b178-00eaee0fff56 button');\n",
              "          quickchartButtonEl.style.display =\n",
              "            google.colab.kernel.accessAllowed ? 'block' : 'none';\n",
              "        })();\n",
              "      </script>\n",
              "    </div>\n",
              "\n",
              "  <div id=\"id_110132b4-f7df-4719-97ce-6704b12f3693\">\n",
              "    <style>\n",
              "      .colab-df-generate {\n",
              "        background-color: #E8F0FE;\n",
              "        border: none;\n",
              "        border-radius: 50%;\n",
              "        cursor: pointer;\n",
              "        display: none;\n",
              "        fill: #1967D2;\n",
              "        height: 32px;\n",
              "        padding: 0 0 0 0;\n",
              "        width: 32px;\n",
              "      }\n",
              "\n",
              "      .colab-df-generate:hover {\n",
              "        background-color: #E2EBFA;\n",
              "        box-shadow: 0px 1px 2px rgba(60, 64, 67, 0.3), 0px 1px 3px 1px rgba(60, 64, 67, 0.15);\n",
              "        fill: #174EA6;\n",
              "      }\n",
              "\n",
              "      [theme=dark] .colab-df-generate {\n",
              "        background-color: #3B4455;\n",
              "        fill: #D2E3FC;\n",
              "      }\n",
              "\n",
              "      [theme=dark] .colab-df-generate:hover {\n",
              "        background-color: #434B5C;\n",
              "        box-shadow: 0px 1px 3px 1px rgba(0, 0, 0, 0.15);\n",
              "        filter: drop-shadow(0px 1px 2px rgba(0, 0, 0, 0.3));\n",
              "        fill: #FFFFFF;\n",
              "      }\n",
              "    </style>\n",
              "    <button class=\"colab-df-generate\" onclick=\"generateWithVariable('df')\"\n",
              "            title=\"Generate code using this dataframe.\"\n",
              "            style=\"display:none;\">\n",
              "\n",
              "  <svg xmlns=\"http://www.w3.org/2000/svg\" height=\"24px\"viewBox=\"0 0 24 24\"\n",
              "       width=\"24px\">\n",
              "    <path d=\"M7,19H8.4L18.45,9,17,7.55,7,17.6ZM5,21V16.75L18.45,3.32a2,2,0,0,1,2.83,0l1.4,1.43a1.91,1.91,0,0,1,.58,1.4,1.91,1.91,0,0,1-.58,1.4L9.25,21ZM18.45,9,17,7.55Zm-12,3A5.31,5.31,0,0,0,4.9,8.1,5.31,5.31,0,0,0,1,6.5,5.31,5.31,0,0,0,4.9,4.9,5.31,5.31,0,0,0,6.5,1,5.31,5.31,0,0,0,8.1,4.9,5.31,5.31,0,0,0,12,6.5,5.46,5.46,0,0,0,6.5,12Z\"/>\n",
              "  </svg>\n",
              "    </button>\n",
              "    <script>\n",
              "      (() => {\n",
              "      const buttonEl =\n",
              "        document.querySelector('#id_110132b4-f7df-4719-97ce-6704b12f3693 button.colab-df-generate');\n",
              "      buttonEl.style.display =\n",
              "        google.colab.kernel.accessAllowed ? 'block' : 'none';\n",
              "\n",
              "      buttonEl.onclick = () => {\n",
              "        google.colab.notebook.generateWithVariable('df');\n",
              "      }\n",
              "      })();\n",
              "    </script>\n",
              "  </div>\n",
              "\n",
              "    </div>\n",
              "  </div>\n"
            ],
            "application/vnd.google.colaboratory.intrinsic+json": {
              "type": "dataframe",
              "variable_name": "df"
            }
          },
          "metadata": {},
          "execution_count": 4
        }
      ]
    },
    {
      "cell_type": "markdown",
      "source": [
        "# Pre processing"
      ],
      "metadata": {
        "id": "eX1b9l9hq9qE"
      }
    },
    {
      "cell_type": "markdown",
      "source": [
        "## Studying the data set"
      ],
      "metadata": {
        "id": "QZ4i-ZqXrAIO"
      }
    },
    {
      "cell_type": "code",
      "source": [
        "df.info()"
      ],
      "metadata": {
        "colab": {
          "base_uri": "https://localhost:8080/"
        },
        "id": "RsvyHFZUrFo_",
        "outputId": "05278e16-027b-44b9-c814-3bf39a950e7e"
      },
      "execution_count": null,
      "outputs": [
        {
          "output_type": "stream",
          "name": "stdout",
          "text": [
            "<class 'pandas.core.frame.DataFrame'>\n",
            "RangeIndex: 284807 entries, 0 to 284806\n",
            "Data columns (total 31 columns):\n",
            " #   Column  Non-Null Count   Dtype  \n",
            "---  ------  --------------   -----  \n",
            " 0   time    284807 non-null  float64\n",
            " 1   v1      284807 non-null  float64\n",
            " 2   v2      284807 non-null  float64\n",
            " 3   v3      284807 non-null  float64\n",
            " 4   v4      284807 non-null  float64\n",
            " 5   v5      284807 non-null  float64\n",
            " 6   v6      284807 non-null  float64\n",
            " 7   v7      284807 non-null  float64\n",
            " 8   v8      284807 non-null  float64\n",
            " 9   v9      284807 non-null  float64\n",
            " 10  v10     284807 non-null  float64\n",
            " 11  v11     284807 non-null  float64\n",
            " 12  v12     284807 non-null  float64\n",
            " 13  v13     284807 non-null  float64\n",
            " 14  v14     284807 non-null  float64\n",
            " 15  v15     284807 non-null  float64\n",
            " 16  v16     284807 non-null  float64\n",
            " 17  v17     284807 non-null  float64\n",
            " 18  v18     284807 non-null  float64\n",
            " 19  v19     284807 non-null  float64\n",
            " 20  v20     284807 non-null  float64\n",
            " 21  v21     284807 non-null  float64\n",
            " 22  v22     284807 non-null  float64\n",
            " 23  v23     284807 non-null  float64\n",
            " 24  v24     284807 non-null  float64\n",
            " 25  v25     284807 non-null  float64\n",
            " 26  v26     284807 non-null  float64\n",
            " 27  v27     284807 non-null  float64\n",
            " 28  v28     284807 non-null  float64\n",
            " 29  amount  284807 non-null  float64\n",
            " 30  class   284807 non-null  int64  \n",
            "dtypes: float64(30), int64(1)\n",
            "memory usage: 67.4 MB\n"
          ]
        }
      ]
    },
    {
      "cell_type": "code",
      "source": [
        "# Unique value count\n",
        "print(df[\"class\"].value_counts())"
      ],
      "metadata": {
        "colab": {
          "base_uri": "https://localhost:8080/"
        },
        "id": "tErmWqA-rEuI",
        "outputId": "af7dd192-0f6b-4327-86ef-4ba79340094f"
      },
      "execution_count": null,
      "outputs": [
        {
          "output_type": "stream",
          "name": "stdout",
          "text": [
            "class\n",
            "0    284315\n",
            "1       492\n",
            "Name: count, dtype: int64\n"
          ]
        }
      ]
    },
    {
      "cell_type": "code",
      "source": [
        "print(df[\"class\"].value_counts(normalize=True)) #Precentages"
      ],
      "metadata": {
        "colab": {
          "base_uri": "https://localhost:8080/"
        },
        "id": "PWEYMkv7rcM_",
        "outputId": "17a66178-74ae-453f-a305-df5dbd5c7e58"
      },
      "execution_count": null,
      "outputs": [
        {
          "output_type": "stream",
          "name": "stdout",
          "text": [
            "class\n",
            "0    0.998273\n",
            "1    0.001727\n",
            "Name: proportion, dtype: float64\n"
          ]
        }
      ]
    },
    {
      "cell_type": "code",
      "source": [
        "df[\"class\"].value_counts().plot(kind=\"pie\",explode=[0,0.1],figsize=(6,6),autopct=\"%1f%%\",shadow=True)\n",
        "plt.title(\"Fraudlent and Non-Frauddulent Distribution\", fontsize=20)\n",
        "plt.legend([\"Fraud\",\"Legit\"])\n",
        "plt.show()"
      ],
      "metadata": {
        "colab": {
          "base_uri": "https://localhost:8080/",
          "height": 529
        },
        "id": "jYIJfJNTrpv0",
        "outputId": "bfcd088a-7dfe-4505-e2cb-92fca1b62f14"
      },
      "execution_count": null,
      "outputs": [
        {
          "output_type": "display_data",
          "data": {
            "text/plain": [
              "<Figure size 600x600 with 1 Axes>"
            ],
            "image/png": "[encoded data removed]"
          },
          "metadata": {}
        }
      ]
    },
    {
      "cell_type": "code",
      "source": [
        "df[['time','amount']].describe()"
      ],
      "metadata": {
        "colab": {
          "base_uri": "https://localhost:8080/",
          "height": 300
        },
        "id": "ZwRv-ND0shj5",
        "outputId": "84fd59a8-2bd7-476c-b71e-249e43ccce79"
      },
      "execution_count": null,
      "outputs": [
        {
          "output_type": "execute_result",
          "data": {
            "text/plain": [
              "                time         amount\n",
              "count  284807.000000  284807.000000\n",
              "mean    94813.859575      88.349619\n",
              "std     47488.145955     250.120109\n",
              "min         0.000000       0.000000\n",
              "25%     54201.500000       5.600000\n",
              "50%     84692.000000      22.000000\n",
              "75%    139320.500000      77.165000\n",
              "max    172792.000000   25691.160000"
            ],
            "text/html": [
              "\n",
              "  <div id=\"df-4015c0d9-c6a5-4554-9a9d-04e4d53102b2\" class=\"colab-df-container\">\n",
              "    <div>\n",
              "<style scoped>\n",
              "    .dataframe tbody tr th:only-of-type {\n",
              "        vertical-align: middle;\n",
              "    }\n",
              "\n",
              "    .dataframe tbody tr th {\n",
              "        vertical-align: top;\n",
              "    }\n",
              "\n",
              "    .dataframe thead th {\n",
              "        text-align: right;\n",
              "    }\n",
              "</style>\n",
              "<table border=\"1\" class=\"dataframe\">\n",
              "  <thead>\n",
              "    <tr style=\"text-align: right;\">\n",
              "      <th></th>\n",
              "      <th>time</th>\n",
              "      <th>amount</th>\n",
              "    </tr>\n",
              "  </thead>\n",
              "  <tbody>\n",
              "    <tr>\n",
              "      <th>count</th>\n",
              "      <td>284807.000000</td>\n",
              "      <td>284807.000000</td>\n",
              "    </tr>\n",
              "    <tr>\n",
              "      <th>mean</th>\n",
              "      <td>94813.859575</td>\n",
              "      <td>88.349619</td>\n",
              "    </tr>\n",
              "    <tr>\n",
              "      <th>std</th>\n",
              "      <td>47488.145955</td>\n",
              "      <td>250.120109</td>\n",
              "    </tr>\n",
              "    <tr>\n",
              "      <th>min</th>\n",
              "      <td>0.000000</td>\n",
              "      <td>0.000000</td>\n",
              "    </tr>\n",
              "    <tr>\n",
              "      <th>25%</th>\n",
              "      <td>54201.500000</td>\n",
              "      <td>5.600000</td>\n",
              "    </tr>\n",
              "    <tr>\n",
              "      <th>50%</th>\n",
              "      <td>84692.000000</td>\n",
              "      <td>22.000000</td>\n",
              "    </tr>\n",
              "    <tr>\n",
              "      <th>75%</th>\n",
              "      <td>139320.500000</td>\n",
              "      <td>77.165000</td>\n",
              "    </tr>\n",
              "    <tr>\n",
              "      <th>max</th>\n",
              "      <td>172792.000000</td>\n",
              "      <td>25691.160000</td>\n",
              "    </tr>\n",
              "  </tbody>\n",
              "</table>\n",
              "</div>\n",
              "    <div class=\"colab-df-buttons\">\n",
              "\n",
              "  <div class=\"colab-df-container\">\n",
              "    <button class=\"colab-df-convert\" onclick=\"convertToInteractive('df-4015c0d9-c6a5-4554-9a9d-04e4d53102b2')\"\n",
              "            title=\"Convert this dataframe to an interactive table.\"\n",
              "            style=\"display:none;\">\n",
              "\n",
              "  <svg xmlns=\"http://www.w3.org/2000/svg\" height=\"24px\" viewBox=\"0 -960 960 960\">\n",
              "    <path d=\"M120-120v-720h720v720H120Zm60-500h600v-160H180v160Zm220 220h160v-160H400v160Zm0 220h160v-160H400v160ZM180-400h160v-160H180v160Zm440 0h160v-160H620v160ZM180-180h160v-160H180v160Zm440 0h160v-160H620v160Z\"/>\n",
              "  </svg>\n",
              "    </button>\n",
              "\n",
              "  <style>\n",
              "    .colab-df-container {\n",
              "      display:flex;\n",
              "      gap: 12px;\n",
              "    }\n",
              "\n",
              "    .colab-df-convert {\n",
              "      background-color: #E8F0FE;\n",
              "      border: none;\n",
              "      border-radius: 50%;\n",
              "      cursor: pointer;\n",
              "      display: none;\n",
              "      fill: #1967D2;\n",
              "      height: 32px;\n",
              "      padding: 0 0 0 0;\n",
              "      width: 32px;\n",
              "    }\n",
              "\n",
              "    .colab-df-convert:hover {\n",
              "      background-color: #E2EBFA;\n",
              "      box-shadow: 0px 1px 2px rgba(60, 64, 67, 0.3), 0px 1px 3px 1px rgba(60, 64, 67, 0.15);\n",
              "      fill: #174EA6;\n",
              "    }\n",
              "\n",
              "    .colab-df-buttons div {\n",
              "      margin-bottom: 4px;\n",
              "    }\n",
              "\n",
              "    [theme=dark] .colab-df-convert {\n",
              "      background-color: #3B4455;\n",
              "      fill: #D2E3FC;\n",
              "    }\n",
              "\n",
              "    [theme=dark] .colab-df-convert:hover {\n",
              "      background-color: #434B5C;\n",
              "      box-shadow: 0px 1px 3px 1px rgba(0, 0, 0, 0.15);\n",
              "      filter: drop-shadow(0px 1px 2px rgba(0, 0, 0, 0.3));\n",
              "      fill: #FFFFFF;\n",
              "    }\n",
              "  </style>\n",
              "\n",
              "    <script>\n",
              "      const buttonEl =\n",
              "        document.querySelector('#df-4015c0d9-c6a5-4554-9a9d-04e4d53102b2 button.colab-df-convert');\n",
              "      buttonEl.style.display =\n",
              "        google.colab.kernel.accessAllowed ? 'block' : 'none';\n",
              "\n",
              "      async function convertToInteractive(key) {\n",
              "        const element = document.querySelector('#df-4015c0d9-c6a5-4554-9a9d-04e4d53102b2');\n",
              "        const dataTable =\n",
              "          await google.colab.kernel.invokeFunction('convertToInteractive',\n",
              "                                                    [key], {});\n",
              "        if (!dataTable) return;\n",
              "\n",
              "        const docLinkHtml = 'Like what you see? Visit the ' +\n",
              "          '<a target=\"_blank\" href=https://colab.research.google.com/notebooks/data_table.ipynb>data table notebook</a>'\n",
              "          + ' to learn more about interactive tables.';\n",
              "        element.innerHTML = '';\n",
              "        dataTable['output_type'] = 'display_data';\n",
              "        await google.colab.output.renderOutput(dataTable, element);\n",
              "        const docLink = document.createElement('div');\n",
              "        docLink.innerHTML = docLinkHtml;\n",
              "        element.appendChild(docLink);\n",
              "      }\n",
              "    </script>\n",
              "  </div>\n",
              "\n",
              "\n",
              "    <div id=\"df-92a3f5ac-50aa-4b5a-9eda-7914dbc9b80c\">\n",
              "      <button class=\"colab-df-quickchart\" onclick=\"quickchart('df-92a3f5ac-50aa-4b5a-9eda-7914dbc9b80c')\"\n",
              "                title=\"Suggest charts\"\n",
              "                style=\"display:none;\">\n",
              "\n",
              "<svg xmlns=\"http://www.w3.org/2000/svg\" height=\"24px\"viewBox=\"0 0 24 24\"\n",
              "     width=\"24px\">\n",
              "    <g>\n",
              "        <path d=\"M19 3H5c-1.1 0-2 .9-2 2v14c0 1.1.9 2 2 2h14c1.1 0 2-.9 2-2V5c0-1.1-.9-2-2-2zM9 17H7v-7h2v7zm4 0h-2V7h2v10zm4 0h-2v-4h2v4z\"/>\n",
              "    </g>\n",
              "</svg>\n",
              "      </button>\n",
              "\n",
              "<style>\n",
              "  .colab-df-quickchart {\n",
              "      --bg-color: #E8F0FE;\n",
              "      --fill-color: #1967D2;\n",
              "      --hover-bg-color: #E2EBFA;\n",
              "      --hover-fill-color: #174EA6;\n",
              "      --disabled-fill-color: #AAA;\n",
              "      --disabled-bg-color: #DDD;\n",
              "  }\n",
              "\n",
              "  [theme=dark] .colab-df-quickchart {\n",
              "      --bg-color: #3B4455;\n",
              "      --fill-color: #D2E3FC;\n",
              "      --hover-bg-color: #434B5C;\n",
              "      --hover-fill-color: #FFFFFF;\n",
              "      --disabled-bg-color: #3B4455;\n",
              "      --disabled-fill-color: #666;\n",
              "  }\n",
              "\n",
              "  .colab-df-quickchart {\n",
              "    background-color: var(--bg-color);\n",
              "    border: none;\n",
              "    border-radius: 50%;\n",
              "    cursor: pointer;\n",
              "    display: none;\n",
              "    fill: var(--fill-color);\n",
              "    height: 32px;\n",
              "    padding: 0;\n",
              "    width: 32px;\n",
              "  }\n",
              "\n",
              "  .colab-df-quickchart:hover {\n",
              "    background-color: var(--hover-bg-color);\n",
              "    box-shadow: 0 1px 2px rgba(60, 64, 67, 0.3), 0 1px 3px 1px rgba(60, 64, 67, 0.15);\n",
              "    fill: var(--button-hover-fill-color);\n",
              "  }\n",
              "\n",
              "  .colab-df-quickchart-complete:disabled,\n",
              "  .colab-df-quickchart-complete:disabled:hover {\n",
              "    background-color: var(--disabled-bg-color);\n",
              "    fill: var(--disabled-fill-color);\n",
              "    box-shadow: none;\n",
              "  }\n",
              "\n",
              "  .colab-df-spinner {\n",
              "    border: 2px solid var(--fill-color);\n",
              "    border-color: transparent;\n",
              "    border-bottom-color: var(--fill-color);\n",
              "    animation:\n",
              "      spin 1s steps(1) infinite;\n",
              "  }\n",
              "\n",
              "  @keyframes spin {\n",
              "    0% {\n",
              "      border-color: transparent;\n",
              "      border-bottom-color: var(--fill-color);\n",
              "      border-left-color: var(--fill-color);\n",
              "    }\n",
              "    20% {\n",
              "      border-color: transparent;\n",
              "      border-left-color: var(--fill-color);\n",
              "      border-top-color: var(--fill-color);\n",
              "    }\n",
              "    30% {\n",
              "      border-color: transparent;\n",
              "      border-left-color: var(--fill-color);\n",
              "      border-top-color: var(--fill-color);\n",
              "      border-right-color: var(--fill-color);\n",
              "    }\n",
              "    40% {\n",
              "      border-color: transparent;\n",
              "      border-right-color: var(--fill-color);\n",
              "      border-top-color: var(--fill-color);\n",
              "    }\n",
              "    60% {\n",
              "      border-color: transparent;\n",
              "      border-right-color: var(--fill-color);\n",
              "    }\n",
              "    80% {\n",
              "      border-color: transparent;\n",
              "      border-right-color: var(--fill-color);\n",
              "      border-bottom-color: var(--fill-color);\n",
              "    }\n",
              "    90% {\n",
              "      border-color: transparent;\n",
              "      border-bottom-color: var(--fill-color);\n",
              "    }\n",
              "  }\n",
              "</style>\n",
              "\n",
              "      <script>\n",
              "        async function quickchart(key) {\n",
              "          const quickchartButtonEl =\n",
              "            document.querySelector('#' + key + ' button');\n",
              "          quickchartButtonEl.disabled = true;  // To prevent multiple clicks.\n",
              "          quickchartButtonEl.classList.add('colab-df-spinner');\n",
              "          try {\n",
              "            const charts = await google.colab.kernel.invokeFunction(\n",
              "                'suggestCharts', [key], {});\n",
              "          } catch (error) {\n",
              "            console.error('Error during call to suggestCharts:', error);\n",
              "          }\n",
              "          quickchartButtonEl.classList.remove('colab-df-spinner');\n",
              "          quickchartButtonEl.classList.add('colab-df-quickchart-complete');\n",
              "        }\n",
              "        (() => {\n",
              "          let quickchartButtonEl =\n",
              "            document.querySelector('#df-92a3f5ac-50aa-4b5a-9eda-7914dbc9b80c button');\n",
              "          quickchartButtonEl.style.display =\n",
              "            google.colab.kernel.accessAllowed ? 'block' : 'none';\n",
              "        })();\n",
              "      </script>\n",
              "    </div>\n",
              "\n",
              "    </div>\n",
              "  </div>\n"
            ],
            "application/vnd.google.colaboratory.intrinsic+json": {
              "type": "dataframe",
              "summary": "{\n  \"name\": \"df[['time','amount']]\",\n  \"rows\": 8,\n  \"fields\": [\n    {\n      \"column\": \"time\",\n      \"properties\": {\n        \"dtype\": \"number\",\n        \"std\": 88923.6336142936,\n        \"min\": 0.0,\n        \"max\": 284807.0,\n        \"num_unique_values\": 8,\n        \"samples\": [\n          94813.85957508067,\n          84692.0,\n          284807.0\n        ],\n        \"semantic_type\": \"\",\n        \"description\": \"\"\n      }\n    },\n    {\n      \"column\": \"amount\",\n      \"properties\": {\n        \"dtype\": \"number\",\n        \"std\": 99778.01856206654,\n        \"min\": 0.0,\n        \"max\": 284807.0,\n        \"num_unique_values\": 8,\n        \"samples\": [\n          88.34961925093133,\n          22.0,\n          284807.0\n        ],\n        \"semantic_type\": \"\",\n        \"description\": \"\"\n      }\n    }\n  ]\n}"
            }
          },
          "metadata": {},
          "execution_count": 8
        }
      ]
    },
    {
      "cell_type": "code",
      "source": [
        "#Finding null value\n",
        "df.isnull().sum()"
      ],
      "metadata": {
        "colab": {
          "base_uri": "https://localhost:8080/",
          "height": 1000
        },
        "id": "oNrrVTsDttMr",
        "outputId": "e78a8ce9-3990-430f-835c-4fcede0d0c0c"
      },
      "execution_count": null,
      "outputs": [
        {
          "output_type": "execute_result",
          "data": {
            "text/plain": [
              "time      0\n",
              "v1        0\n",
              "v2        0\n",
              "v3        0\n",
              "v4        0\n",
              "v5        0\n",
              "v6        0\n",
              "v7        0\n",
              "v8        0\n",
              "v9        0\n",
              "v10       0\n",
              "v11       0\n",
              "v12       0\n",
              "v13       0\n",
              "v14       0\n",
              "v15       0\n",
              "v16       0\n",
              "v17       0\n",
              "v18       0\n",
              "v19       0\n",
              "v20       0\n",
              "v21       0\n",
              "v22       0\n",
              "v23       0\n",
              "v24       0\n",
              "v25       0\n",
              "v26       0\n",
              "v27       0\n",
              "v28       0\n",
              "amount    0\n",
              "class     0\n",
              "dtype: int64"
            ],
            "text/html": [
              "<div>\n",
              "<style scoped>\n",
              "    .dataframe tbody tr th:only-of-type {\n",
              "        vertical-align: middle;\n",
              "    }\n",
              "\n",
              "    .dataframe tbody tr th {\n",
              "        vertical-align: top;\n",
              "    }\n",
              "\n",
              "    .dataframe thead th {\n",
              "        text-align: right;\n",
              "    }\n",
              "</style>\n",
              "<table border=\"1\" class=\"dataframe\">\n",
              "  <thead>\n",
              "    <tr style=\"text-align: right;\">\n",
              "      <th></th>\n",
              "      <th>0</th>\n",
              "    </tr>\n",
              "  </thead>\n",
              "  <tbody>\n",
              "    <tr>\n",
              "      <th>time</th>\n",
              "      <td>0</td>\n",
              "    </tr>\n",
              "    <tr>\n",
              "      <th>v1</th>\n",
              "      <td>0</td>\n",
              "    </tr>\n",
              "    <tr>\n",
              "      <th>v2</th>\n",
              "      <td>0</td>\n",
              "    </tr>\n",
              "    <tr>\n",
              "      <th>v3</th>\n",
              "      <td>0</td>\n",
              "    </tr>\n",
              "    <tr>\n",
              "      <th>v4</th>\n",
              "      <td>0</td>\n",
              "    </tr>\n",
              "    <tr>\n",
              "      <th>v5</th>\n",
              "      <td>0</td>\n",
              "    </tr>\n",
              "    <tr>\n",
              "      <th>v6</th>\n",
              "      <td>0</td>\n",
              "    </tr>\n",
              "    <tr>\n",
              "      <th>v7</th>\n",
              "      <td>0</td>\n",
              "    </tr>\n",
              "    <tr>\n",
              "      <th>v8</th>\n",
              "      <td>0</td>\n",
              "    </tr>\n",
              "    <tr>\n",
              "      <th>v9</th>\n",
              "      <td>0</td>\n",
              "    </tr>\n",
              "    <tr>\n",
              "      <th>v10</th>\n",
              "      <td>0</td>\n",
              "    </tr>\n",
              "    <tr>\n",
              "      <th>v11</th>\n",
              "      <td>0</td>\n",
              "    </tr>\n",
              "    <tr>\n",
              "      <th>v12</th>\n",
              "      <td>0</td>\n",
              "    </tr>\n",
              "    <tr>\n",
              "      <th>v13</th>\n",
              "      <td>0</td>\n",
              "    </tr>\n",
              "    <tr>\n",
              "      <th>v14</th>\n",
              "      <td>0</td>\n",
              "    </tr>\n",
              "    <tr>\n",
              "      <th>v15</th>\n",
              "      <td>0</td>\n",
              "    </tr>\n",
              "    <tr>\n",
              "      <th>v16</th>\n",
              "      <td>0</td>\n",
              "    </tr>\n",
              "    <tr>\n",
              "      <th>v17</th>\n",
              "      <td>0</td>\n",
              "    </tr>\n",
              "    <tr>\n",
              "      <th>v18</th>\n",
              "      <td>0</td>\n",
              "    </tr>\n",
              "    <tr>\n",
              "      <th>v19</th>\n",
              "      <td>0</td>\n",
              "    </tr>\n",
              "    <tr>\n",
              "      <th>v20</th>\n",
              "      <td>0</td>\n",
              "    </tr>\n",
              "    <tr>\n",
              "      <th>v21</th>\n",
              "      <td>0</td>\n",
              "    </tr>\n",
              "    <tr>\n",
              "      <th>v22</th>\n",
              "      <td>0</td>\n",
              "    </tr>\n",
              "    <tr>\n",
              "      <th>v23</th>\n",
              "      <td>0</td>\n",
              "    </tr>\n",
              "    <tr>\n",
              "      <th>v24</th>\n",
              "      <td>0</td>\n",
              "    </tr>\n",
              "    <tr>\n",
              "      <th>v25</th>\n",
              "      <td>0</td>\n",
              "    </tr>\n",
              "    <tr>\n",
              "      <th>v26</th>\n",
              "      <td>0</td>\n",
              "    </tr>\n",
              "    <tr>\n",
              "      <th>v27</th>\n",
              "      <td>0</td>\n",
              "    </tr>\n",
              "    <tr>\n",
              "      <th>v28</th>\n",
              "      <td>0</td>\n",
              "    </tr>\n",
              "    <tr>\n",
              "      <th>amount</th>\n",
              "      <td>0</td>\n",
              "    </tr>\n",
              "    <tr>\n",
              "      <th>class</th>\n",
              "      <td>0</td>\n",
              "    </tr>\n",
              "  </tbody>\n",
              "</table>\n",
              "</div><br><label><b>dtype:</b> int64</label>"
            ]
          },
          "metadata": {},
          "execution_count": 9
        }
      ]
    },
    {
      "cell_type": "markdown",
      "source": [
        "## Feature Engineering"
      ],
      "metadata": {
        "id": "OWtLuYwT6mkR"
      }
    },
    {
      "cell_type": "code",
      "source": [
        "# Converting time second to hour\n",
        "df['time'] = df['time'].apply(lambda sec:(sec/3600))"
      ],
      "metadata": {
        "id": "VaNzFKDl_wJx"
      },
      "execution_count": null,
      "outputs": []
    },
    {
      "cell_type": "code",
      "source": [
        "# Visualising Data for detecting any partivular pattern or Anomaly unisng Historigram Plots\n",
        "df.hist(figsize = (25,25))\n",
        "plt.show()"
      ],
      "metadata": {
        "id": "MLgL417F-1z_",
        "colab": {
          "base_uri": "https://localhost:8080/",
          "height": 745
        },
        "outputId": "743cb7b2-e0b4-4072-da73-4e9719269d11"
      },
      "execution_count": null,
      "outputs": [
        {
          "output_type": "display_data",
          "data": {
            "text/plain": [
              "<Figure size 2500x2500 with 36 Axes>"
            ],
            "image/png": "[encoded data removed]"
          },
          "metadata": {}
        }
      ]
    },
    {
      "cell_type": "code",
      "source": [
        "df.reset_index(inplace=True, drop = True)"
      ],
      "metadata": {
        "id": "T_-B2sOo_Man"
      },
      "execution_count": null,
      "outputs": []
    },
    {
      "cell_type": "markdown",
      "source": [
        "### Scale Amount Feature"
      ],
      "metadata": {
        "id": "-JZd42iY_UmJ"
      }
    },
    {
      "cell_type": "code",
      "source": [
        "# Scale amount by log\n",
        "df['amount_log'] = np.log(df.amount+0.0001) #Avoid zero error"
      ],
      "metadata": {
        "id": "mE9aSPKhBB1n"
      },
      "execution_count": null,
      "outputs": []
    },
    {
      "cell_type": "markdown",
      "source": [
        "### Spliting Traing and Testing Sample"
      ],
      "metadata": {
        "id": "0r28f9uFZ4er"
      }
    },
    {
      "cell_type": "code",
      "source": [
        "#Drop unecessary features\n",
        "X = df.drop(['time','class','amount'], axis=1)\n",
        "y=df['class']"
      ],
      "metadata": {
        "id": "e7Wm1DYTZ2t_"
      },
      "execution_count": null,
      "outputs": []
    },
    {
      "cell_type": "code",
      "source": [
        "from sklearn.model_selection import train_test_split\n",
        "X_train, X_test, y_train,y_test = train_test_split(X,y,test_size=0.30,shuffle=True, random_state=101)"
      ],
      "metadata": {
        "id": "wYDSeXMmapZw"
      },
      "execution_count": null,
      "outputs": []
    },
    {
      "cell_type": "code",
      "source": [
        "print(\"X_train - \",X_train.shape)\n",
        "print(\"y_train - \",y_train.shape)\n",
        "print(\"X_test - \",X_test.shape)\n",
        "print(\"y_test - \",y_test.shape)"
      ],
      "metadata": {
        "colab": {
          "base_uri": "https://localhost:8080/"
        },
        "id": "PqszuxcjbMpL",
        "outputId": "669cd9ae-3904-4895-88f4-a064c4ead917"
      },
      "execution_count": null,
      "outputs": [
        {
          "output_type": "stream",
          "name": "stdout",
          "text": [
            "X_train -  (199364, 29)\n",
            "y_train -  (199364,)\n",
            "X_test -  (85443, 29)\n",
            "y_test -  (85443,)\n"
          ]
        }
      ]
    },
    {
      "cell_type": "markdown",
      "source": [
        "# Baseline for model to select the Sampling technique"
      ],
      "metadata": {
        "id": "fadzphaDbbPU"
      }
    },
    {
      "cell_type": "markdown",
      "source": [
        "### 1.1 Logistc Regression with imbalanced data"
      ],
      "metadata": {
        "id": "8X2d51gLb1Rm"
      }
    },
    {
      "cell_type": "code",
      "source": [
        "from sklearn.linear_model import LogisticRegression"
      ],
      "metadata": {
        "id": "JMofaivMcCcI"
      },
      "execution_count": null,
      "outputs": []
    },
    {
      "cell_type": "code",
      "source": [
        "lr_model = LogisticRegression()\n",
        "lr_model.fit(X_train,y_train)"
      ],
      "metadata": {
        "colab": {
          "base_uri": "https://localhost:8080/",
          "height": 79
        },
        "id": "eFOLk7M8cLsZ",
        "outputId": "3b764e27-6711-4e41-a344-6f612151f34f"
      },
      "execution_count": null,
      "outputs": [
        {
          "output_type": "execute_result",
          "data": {
            "text/plain": [
              "LogisticRegression()"
            ],
            "text/html": [
              "<style>#sk-container-id-1 {\n",
              "  /* Definition of color scheme common for light and dark mode */\n",
              "  --sklearn-color-text: #000;\n",
              "  --sklearn-color-text-muted: #666;\n",
              "  --sklearn-color-line: gray;\n",
              "  /* Definition of color scheme for unfitted estimators */\n",
              "  --sklearn-color-unfitted-level-0: #fff5e6;\n",
              "  --sklearn-color-unfitted-level-1: #f6e4d2;\n",
              "  --sklearn-color-unfitted-level-2: #ffe0b3;\n",
              "  --sklearn-color-unfitted-level-3: chocolate;\n",
              "  /* Definition of color scheme for fitted estimators */\n",
              "  --sklearn-color-fitted-level-0: #f0f8ff;\n",
              "  --sklearn-color-fitted-level-1: #d4ebff;\n",
              "  --sklearn-color-fitted-level-2: #b3dbfd;\n",
              "  --sklearn-color-fitted-level-3: cornflowerblue;\n",
              "\n",
              "  /* Specific color for light theme */\n",
              "  --sklearn-color-text-on-default-background: var(--sg-text-color, var(--theme-code-foreground, var(--jp-content-font-color1, black)));\n",
              "  --sklearn-color-background: var(--sg-background-color, var(--theme-background, var(--jp-layout-color0, white)));\n",
              "  --sklearn-color-border-box: var(--sg-text-color, var(--theme-code-foreground, var(--jp-content-font-color1, black)));\n",
              "  --sklearn-color-icon: #696969;\n",
              "\n",
              "  @media (prefers-color-scheme: dark) {\n",
              "    /* Redefinition of color scheme for dark theme */\n",
              "    --sklearn-color-text-on-default-background: var(--sg-text-color, var(--theme-code-foreground, var(--jp-content-font-color1, white)));\n",
              "    --sklearn-color-background: var(--sg-background-color, var(--theme-background, var(--jp-layout-color0, #111)));\n",
              "    --sklearn-color-border-box: var(--sg-text-color, var(--theme-code-foreground, var(--jp-content-font-color1, white)));\n",
              "    --sklearn-color-icon: #878787;\n",
              "  }\n",
              "}\n",
              "\n",
              "#sk-container-id-1 {\n",
              "  color: var(--sklearn-color-text);\n",
              "}\n",
              "\n",
              "#sk-container-id-1 pre {\n",
              "  padding: 0;\n",
              "}\n",
              "\n",
              "#sk-container-id-1 input.sk-hidden--visually {\n",
              "  border: 0;\n",
              "  clip: rect(1px 1px 1px 1px);\n",
              "  clip: rect(1px, 1px, 1px, 1px);\n",
              "  height: 1px;\n",
              "  margin: -1px;\n",
              "  overflow: hidden;\n",
              "  padding: 0;\n",
              "  position: absolute;\n",
              "  width: 1px;\n",
              "}\n",
              "\n",
              "#sk-container-id-1 div.sk-dashed-wrapped {\n",
              "  border: 1px dashed var(--sklearn-color-line);\n",
              "  margin: 0 0.4em 0.5em 0.4em;\n",
              "  box-sizing: border-box;\n",
              "  padding-bottom: 0.4em;\n",
              "  background-color: var(--sklearn-color-background);\n",
              "}\n",
              "\n",
              "#sk-container-id-1 div.sk-container {\n",
              "  /* jupyter's `normalize.less` sets `[hidden] { display: none; }`\n",
              "     but bootstrap.min.css set `[hidden] { display: none !important; }`\n",
              "     so we also need the `!important` here to be able to override the\n",
              "     default hidden behavior on the sphinx rendered scikit-learn.org.\n",
              "     See: https://github.com/scikit-learn/scikit-learn/issues/21755 */\n",
              "  display: inline-block !important;\n",
              "  position: relative;\n",
              "}\n",
              "\n",
              "#sk-container-id-1 div.sk-text-repr-fallback {\n",
              "  display: none;\n",
              "}\n",
              "\n",
              "div.sk-parallel-item,\n",
              "div.sk-serial,\n",
              "div.sk-item {\n",
              "  /* draw centered vertical line to link estimators */\n",
              "  background-image: linear-gradient(var(--sklearn-color-text-on-default-background), var(--sklearn-color-text-on-default-background));\n",
              "  background-size: 2px 100%;\n",
              "  background-repeat: no-repeat;\n",
              "  background-position: center center;\n",
              "}\n",
              "\n",
              "/* Parallel-specific style estimator block */\n",
              "\n",
              "#sk-container-id-1 div.sk-parallel-item::after {\n",
              "  content: \"\";\n",
              "  width: 100%;\n",
              "  border-bottom: 2px solid var(--sklearn-color-text-on-default-background);\n",
              "  flex-grow: 1;\n",
              "}\n",
              "\n",
              "#sk-container-id-1 div.sk-parallel {\n",
              "  display: flex;\n",
              "  align-items: stretch;\n",
              "  justify-content: center;\n",
              "  background-color: var(--sklearn-color-background);\n",
              "  position: relative;\n",
              "}\n",
              "\n",
              "#sk-container-id-1 div.sk-parallel-item {\n",
              "  display: flex;\n",
              "  flex-direction: column;\n",
              "}\n",
              "\n",
              "#sk-container-id-1 div.sk-parallel-item:first-child::after {\n",
              "  align-self: flex-end;\n",
              "  width: 50%;\n",
              "}\n",
              "\n",
              "#sk-container-id-1 div.sk-parallel-item:last-child::after {\n",
              "  align-self: flex-start;\n",
              "  width: 50%;\n",
              "}\n",
              "\n",
              "#sk-container-id-1 div.sk-parallel-item:only-child::after {\n",
              "  width: 0;\n",
              "}\n",
              "\n",
              "/* Serial-specific style estimator block */\n",
              "\n",
              "#sk-container-id-1 div.sk-serial {\n",
              "  display: flex;\n",
              "  flex-direction: column;\n",
              "  align-items: center;\n",
              "  background-color: var(--sklearn-color-background);\n",
              "  padding-right: 1em;\n",
              "  padding-left: 1em;\n",
              "}\n",
              "\n",
              "\n",
              "/* Toggleable style: style used for estimator/Pipeline/ColumnTransformer box that is\n",
              "clickable and can be expanded/collapsed.\n",
              "- Pipeline and ColumnTransformer use this feature and define the default style\n",
              "- Estimators will overwrite some part of the style using the `sk-estimator` class\n",
              "*/\n",
              "\n",
              "/* Pipeline and ColumnTransformer style (default) */\n",
              "\n",
              "#sk-container-id-1 div.sk-toggleable {\n",
              "  /* Default theme specific background. It is overwritten whether we have a\n",
              "  specific estimator or a Pipeline/ColumnTransformer */\n",
              "  background-color: var(--sklearn-color-background);\n",
              "}\n",
              "\n",
              "/* Toggleable label */\n",
              "#sk-container-id-1 label.sk-toggleable__label {\n",
              "  cursor: pointer;\n",
              "  display: flex;\n",
              "  width: 100%;\n",
              "  margin-bottom: 0;\n",
              "  padding: 0.5em;\n",
              "  box-sizing: border-box;\n",
              "  text-align: center;\n",
              "  align-items: start;\n",
              "  justify-content: space-between;\n",
              "  gap: 0.5em;\n",
              "}\n",
              "\n",
              "#sk-container-id-1 label.sk-toggleable__label .caption {\n",
              "  font-size: 0.6rem;\n",
              "  font-weight: lighter;\n",
              "  color: var(--sklearn-color-text-muted);\n",
              "}\n",
              "\n",
              "#sk-container-id-1 label.sk-toggleable__label-arrow:before {\n",
              "  /* Arrow on the left of the label */\n",
              "  content: \"▸\";\n",
              "  float: left;\n",
              "  margin-right: 0.25em;\n",
              "  color: var(--sklearn-color-icon);\n",
              "}\n",
              "\n",
              "#sk-container-id-1 label.sk-toggleable__label-arrow:hover:before {\n",
              "  color: var(--sklearn-color-text);\n",
              "}\n",
              "\n",
              "/* Toggleable content - dropdown */\n",
              "\n",
              "#sk-container-id-1 div.sk-toggleable__content {\n",
              "  max-height: 0;\n",
              "  max-width: 0;\n",
              "  overflow: hidden;\n",
              "  text-align: left;\n",
              "  /* unfitted */\n",
              "  background-color: var(--sklearn-color-unfitted-level-0);\n",
              "}\n",
              "\n",
              "#sk-container-id-1 div.sk-toggleable__content.fitted {\n",
              "  /* fitted */\n",
              "  background-color: var(--sklearn-color-fitted-level-0);\n",
              "}\n",
              "\n",
              "#sk-container-id-1 div.sk-toggleable__content pre {\n",
              "  margin: 0.2em;\n",
              "  border-radius: 0.25em;\n",
              "  color: var(--sklearn-color-text);\n",
              "  /* unfitted */\n",
              "  background-color: var(--sklearn-color-unfitted-level-0);\n",
              "}\n",
              "\n",
              "#sk-container-id-1 div.sk-toggleable__content.fitted pre {\n",
              "  /* unfitted */\n",
              "  background-color: var(--sklearn-color-fitted-level-0);\n",
              "}\n",
              "\n",
              "#sk-container-id-1 input.sk-toggleable__control:checked~div.sk-toggleable__content {\n",
              "  /* Expand drop-down */\n",
              "  max-height: 200px;\n",
              "  max-width: 100%;\n",
              "  overflow: auto;\n",
              "}\n",
              "\n",
              "#sk-container-id-1 input.sk-toggleable__control:checked~label.sk-toggleable__label-arrow:before {\n",
              "  content: \"▾\";\n",
              "}\n",
              "\n",
              "/* Pipeline/ColumnTransformer-specific style */\n",
              "\n",
              "#sk-container-id-1 div.sk-label input.sk-toggleable__control:checked~label.sk-toggleable__label {\n",
              "  color: var(--sklearn-color-text);\n",
              "  background-color: var(--sklearn-color-unfitted-level-2);\n",
              "}\n",
              "\n",
              "#sk-container-id-1 div.sk-label.fitted input.sk-toggleable__control:checked~label.sk-toggleable__label {\n",
              "  background-color: var(--sklearn-color-fitted-level-2);\n",
              "}\n",
              "\n",
              "/* Estimator-specific style */\n",
              "\n",
              "/* Colorize estimator box */\n",
              "#sk-container-id-1 div.sk-estimator input.sk-toggleable__control:checked~label.sk-toggleable__label {\n",
              "  /* unfitted */\n",
              "  background-color: var(--sklearn-color-unfitted-level-2);\n",
              "}\n",
              "\n",
              "#sk-container-id-1 div.sk-estimator.fitted input.sk-toggleable__control:checked~label.sk-toggleable__label {\n",
              "  /* fitted */\n",
              "  background-color: var(--sklearn-color-fitted-level-2);\n",
              "}\n",
              "\n",
              "#sk-container-id-1 div.sk-label label.sk-toggleable__label,\n",
              "#sk-container-id-1 div.sk-label label {\n",
              "  /* The background is the default theme color */\n",
              "  color: var(--sklearn-color-text-on-default-background);\n",
              "}\n",
              "\n",
              "/* On hover, darken the color of the background */\n",
              "#sk-container-id-1 div.sk-label:hover label.sk-toggleable__label {\n",
              "  color: var(--sklearn-color-text);\n",
              "  background-color: var(--sklearn-color-unfitted-level-2);\n",
              "}\n",
              "\n",
              "/* Label box, darken color on hover, fitted */\n",
              "#sk-container-id-1 div.sk-label.fitted:hover label.sk-toggleable__label.fitted {\n",
              "  color: var(--sklearn-color-text);\n",
              "  background-color: var(--sklearn-color-fitted-level-2);\n",
              "}\n",
              "\n",
              "/* Estimator label */\n",
              "\n",
              "#sk-container-id-1 div.sk-label label {\n",
              "  font-family: monospace;\n",
              "  font-weight: bold;\n",
              "  display: inline-block;\n",
              "  line-height: 1.2em;\n",
              "}\n",
              "\n",
              "#sk-container-id-1 div.sk-label-container {\n",
              "  text-align: center;\n",
              "}\n",
              "\n",
              "/* Estimator-specific */\n",
              "#sk-container-id-1 div.sk-estimator {\n",
              "  font-family: monospace;\n",
              "  border: 1px dotted var(--sklearn-color-border-box);\n",
              "  border-radius: 0.25em;\n",
              "  box-sizing: border-box;\n",
              "  margin-bottom: 0.5em;\n",
              "  /* unfitted */\n",
              "  background-color: var(--sklearn-color-unfitted-level-0);\n",
              "}\n",
              "\n",
              "#sk-container-id-1 div.sk-estimator.fitted {\n",
              "  /* fitted */\n",
              "  background-color: var(--sklearn-color-fitted-level-0);\n",
              "}\n",
              "\n",
              "/* on hover */\n",
              "#sk-container-id-1 div.sk-estimator:hover {\n",
              "  /* unfitted */\n",
              "  background-color: var(--sklearn-color-unfitted-level-2);\n",
              "}\n",
              "\n",
              "#sk-container-id-1 div.sk-estimator.fitted:hover {\n",
              "  /* fitted */\n",
              "  background-color: var(--sklearn-color-fitted-level-2);\n",
              "}\n",
              "\n",
              "/* Specification for estimator info (e.g. \"i\" and \"?\") */\n",
              "\n",
              "/* Common style for \"i\" and \"?\" */\n",
              "\n",
              ".sk-estimator-doc-link,\n",
              "a:link.sk-estimator-doc-link,\n",
              "a:visited.sk-estimator-doc-link {\n",
              "  float: right;\n",
              "  font-size: smaller;\n",
              "  line-height: 1em;\n",
              "  font-family: monospace;\n",
              "  background-color: var(--sklearn-color-background);\n",
              "  border-radius: 1em;\n",
              "  height: 1em;\n",
              "  width: 1em;\n",
              "  text-decoration: none !important;\n",
              "  margin-left: 0.5em;\n",
              "  text-align: center;\n",
              "  /* unfitted */\n",
              "  border: var(--sklearn-color-unfitted-level-1) 1pt solid;\n",
              "  color: var(--sklearn-color-unfitted-level-1);\n",
              "}\n",
              "\n",
              ".sk-estimator-doc-link.fitted,\n",
              "a:link.sk-estimator-doc-link.fitted,\n",
              "a:visited.sk-estimator-doc-link.fitted {\n",
              "  /* fitted */\n",
              "  border: var(--sklearn-color-fitted-level-1) 1pt solid;\n",
              "  color: var(--sklearn-color-fitted-level-1);\n",
              "}\n",
              "\n",
              "/* On hover */\n",
              "div.sk-estimator:hover .sk-estimator-doc-link:hover,\n",
              ".sk-estimator-doc-link:hover,\n",
              "div.sk-label-container:hover .sk-estimator-doc-link:hover,\n",
              ".sk-estimator-doc-link:hover {\n",
              "  /* unfitted */\n",
              "  background-color: var(--sklearn-color-unfitted-level-3);\n",
              "  color: var(--sklearn-color-background);\n",
              "  text-decoration: none;\n",
              "}\n",
              "\n",
              "div.sk-estimator.fitted:hover .sk-estimator-doc-link.fitted:hover,\n",
              ".sk-estimator-doc-link.fitted:hover,\n",
              "div.sk-label-container:hover .sk-estimator-doc-link.fitted:hover,\n",
              ".sk-estimator-doc-link.fitted:hover {\n",
              "  /* fitted */\n",
              "  background-color: var(--sklearn-color-fitted-level-3);\n",
              "  color: var(--sklearn-color-background);\n",
              "  text-decoration: none;\n",
              "}\n",
              "\n",
              "/* Span, style for the box shown on hovering the info icon */\n",
              ".sk-estimator-doc-link span {\n",
              "  display: none;\n",
              "  z-index: 9999;\n",
              "  position: relative;\n",
              "  font-weight: normal;\n",
              "  right: .2ex;\n",
              "  padding: .5ex;\n",
              "  margin: .5ex;\n",
              "  width: min-content;\n",
              "  min-width: 20ex;\n",
              "  max-width: 50ex;\n",
              "  color: var(--sklearn-color-text);\n",
              "  box-shadow: 2pt 2pt 4pt #999;\n",
              "  /* unfitted */\n",
              "  background: var(--sklearn-color-unfitted-level-0);\n",
              "  border: .5pt solid var(--sklearn-color-unfitted-level-3);\n",
              "}\n",
              "\n",
              ".sk-estimator-doc-link.fitted span {\n",
              "  /* fitted */\n",
              "  background: var(--sklearn-color-fitted-level-0);\n",
              "  border: var(--sklearn-color-fitted-level-3);\n",
              "}\n",
              "\n",
              ".sk-estimator-doc-link:hover span {\n",
              "  display: block;\n",
              "}\n",
              "\n",
              "/* \"?\"-specific style due to the `<a>` HTML tag */\n",
              "\n",
              "#sk-container-id-1 a.estimator_doc_link {\n",
              "  float: right;\n",
              "  font-size: 1rem;\n",
              "  line-height: 1em;\n",
              "  font-family: monospace;\n",
              "  background-color: var(--sklearn-color-background);\n",
              "  border-radius: 1rem;\n",
              "  height: 1rem;\n",
              "  width: 1rem;\n",
              "  text-decoration: none;\n",
              "  /* unfitted */\n",
              "  color: var(--sklearn-color-unfitted-level-1);\n",
              "  border: var(--sklearn-color-unfitted-level-1) 1pt solid;\n",
              "}\n",
              "\n",
              "#sk-container-id-1 a.estimator_doc_link.fitted {\n",
              "  /* fitted */\n",
              "  border: var(--sklearn-color-fitted-level-1) 1pt solid;\n",
              "  color: var(--sklearn-color-fitted-level-1);\n",
              "}\n",
              "\n",
              "/* On hover */\n",
              "#sk-container-id-1 a.estimator_doc_link:hover {\n",
              "  /* unfitted */\n",
              "  background-color: var(--sklearn-color-unfitted-level-3);\n",
              "  color: var(--sklearn-color-background);\n",
              "  text-decoration: none;\n",
              "}\n",
              "\n",
              "#sk-container-id-1 a.estimator_doc_link.fitted:hover {\n",
              "  /* fitted */\n",
              "  background-color: var(--sklearn-color-fitted-level-3);\n",
              "}\n",
              "</style><div id=\"sk-container-id-1\" class=\"sk-top-container\"><div class=\"sk-text-repr-fallback\"><pre>LogisticRegression()</pre><b>In a Jupyter environment, please rerun this cell to show the HTML representation or trust the notebook. <br />On GitHub, the HTML representation is unable to render, please try loading this page with nbviewer.org.</b></div><div class=\"sk-container\" hidden><div class=\"sk-item\"><div class=\"sk-estimator fitted sk-toggleable\"><input class=\"sk-toggleable__control sk-hidden--visually\" id=\"sk-estimator-id-1\" type=\"checkbox\" checked><label for=\"sk-estimator-id-1\" class=\"sk-toggleable__label fitted sk-toggleable__label-arrow\"><div><div>LogisticRegression</div></div><div><a class=\"sk-estimator-doc-link fitted\" rel=\"noreferrer\" target=\"_blank\" href=\"https://scikit-learn.org/1.6/modules/generated/sklearn.linear_model.LogisticRegression.html\">?<span>Documentation for LogisticRegression</span></a><span class=\"sk-estimator-doc-link fitted\">i<span>Fitted</span></span></div></label><div class=\"sk-toggleable__content fitted\"><pre>LogisticRegression()</pre></div> </div></div></div></div>"
            ]
          },
          "metadata": {},
          "execution_count": 12
        }
      ]
    },
    {
      "cell_type": "code",
      "source": [
        "y_pred = lr_model.predict(X_test)"
      ],
      "metadata": {
        "id": "w251BQoPcW3S"
      },
      "execution_count": null,
      "outputs": []
    },
    {
      "cell_type": "markdown",
      "source": [
        "### Model Valuation"
      ],
      "metadata": {
        "id": "hjgDjpMtcgyS"
      }
    },
    {
      "cell_type": "code",
      "source": [
        "from sklearn import metrics"
      ],
      "metadata": {
        "id": "IBjTdrkpcm99"
      },
      "execution_count": null,
      "outputs": []
    },
    {
      "cell_type": "code",
      "source": [
        "# Confusion Matrix\n",
        "print(metrics.classification_report(y_test, y_pred))"
      ],
      "metadata": {
        "colab": {
          "base_uri": "https://localhost:8080/"
        },
        "id": "5Uv-yciMctkS",
        "outputId": "a83726e1-e820-40ea-a978-6e267fd48ba6"
      },
      "execution_count": null,
      "outputs": [
        {
          "output_type": "stream",
          "name": "stdout",
          "text": [
            "              precision    recall  f1-score   support\n",
            "\n",
            "           0       1.00      1.00      1.00     85299\n",
            "           1       0.90      0.60      0.72       144\n",
            "\n",
            "    accuracy                           1.00     85443\n",
            "   macro avg       0.95      0.80      0.86     85443\n",
            "weighted avg       1.00      1.00      1.00     85443\n",
            "\n"
          ]
        }
      ]
    },
    {
      "cell_type": "code",
      "source": [
        "print('Precision: {0:0.5f}'.format(metrics.precision_score(y_test, y_pred)))\n",
        "print('Recall: {0:0.5f}'.format(metrics.recall_score(y_test,y_pred)))\n",
        "print('F1: {0:0.5f}'.format(metrics.f1_score(y_test,y_pred)))\n",
        "# Otheres\n",
        "print('\\nOthers:')\n",
        "print('Accurecy: {0:0.5f}'.format(metrics.accuracy_score(y_test,y_pred)))\n",
        "print('AUC: {0:0.5f}'.format(metrics.roc_auc_score(y_test, y_pred)))\n"
      ],
      "metadata": {
        "colab": {
          "base_uri": "https://localhost:8080/"
        },
        "id": "zrF4gVf8czKO",
        "outputId": "1a79f01f-8e4d-408a-c8a9-bd430d26dc7a"
      },
      "execution_count": null,
      "outputs": [
        {
          "output_type": "stream",
          "name": "stdout",
          "text": [
            "Precision: 0.89691\n",
            "Recall: 0.60417\n",
            "F1: 0.72199\n",
            "\n",
            "Others:\n",
            "Accurecy: 0.99922\n",
            "AUC: 0.80202\n"
          ]
        }
      ]
    },
    {
      "cell_type": "code",
      "source": [
        "#Confusion Matrix"
      ],
      "metadata": {
        "id": "QkM2V1Kxeme9"
      },
      "execution_count": null,
      "outputs": []
    },
    {
      "cell_type": "code",
      "source": [
        "cnf_matrix = metrics.confusion_matrix(y_test, y_pred)"
      ],
      "metadata": {
        "id": "tu_Els17gEH-"
      },
      "execution_count": null,
      "outputs": []
    },
    {
      "cell_type": "code",
      "source": [
        "# Heatmap for Confusion Matrix\n",
        "p = sns.heatmap(pd.DataFrame(cnf_matrix), annot=True, annot_kws={\"size\": 25},cmap=\"winter\",fmt=\"g\")\n",
        "\n",
        "plt.title(\"Confusion Matrix\", y=1.1, fontsize=22)\n",
        "plt.ylabel(\"Actual\", fontsize=18)\n",
        "plt.xlabel('Predicted', fontsize=18)\n",
        "\n",
        "plt.show()"
      ],
      "metadata": {
        "colab": {
          "base_uri": "https://localhost:8080/",
          "height": 528
        },
        "id": "Uy5xinWbgO9J",
        "outputId": "c704baeb-5723-4d96-b89c-1cb79a199aee"
      },
      "execution_count": null,
      "outputs": [
        {
          "output_type": "display_data",
          "data": {
            "text/plain": [
              "<Figure size 640x480 with 2 Axes>"
            ],
            "image/png": "[encoded data removed]"
          },
          "metadata": {}
        }
      ]
    },
    {
      "cell_type": "markdown",
      "source": [
        "# Class Imbalance"
      ],
      "metadata": {
        "id": "XbUu9L2tkrVw"
      }
    },
    {
      "cell_type": "code",
      "source": [
        "from sklearn.metrics import precision_score, recall_score, f1_score, roc_auc_score, accuracy_score, classification_report\n",
        "from imblearn.over_sampling import SMOTE, ADASYN\n",
        "from imblearn.under_sampling import RandomUnderSampler"
      ],
      "metadata": {
        "id": "_-H84lJUnvRQ"
      },
      "execution_count": null,
      "outputs": []
    },
    {
      "cell_type": "markdown",
      "source": [
        "## 1.2 Logist Regression with Rnadom Undersampling"
      ],
      "metadata": {
        "id": "F2iFFakBosV5"
      }
    },
    {
      "cell_type": "code",
      "source": [
        "from collections import Counter # Take values return value cound dictionary"
      ],
      "metadata": {
        "id": "7T_sKyf1o5ss"
      },
      "execution_count": null,
      "outputs": []
    },
    {
      "cell_type": "code",
      "source": [
        "print('Original dataset shape %s'% Counter(y_train))\n",
        "\n",
        "# Undersamplying only on train\n",
        "rus = RandomUnderSampler(random_state=42)\n",
        "X_train_rus, y_train_rus = rus.fit_resample(X_train, y_train)\n",
        "\n",
        "print('Resampled dataset shape %s' % Counter(y_train_rus))"
      ],
      "metadata": {
        "colab": {
          "base_uri": "https://localhost:8080/"
        },
        "id": "JWeJmkWKp4D_",
        "outputId": "747dc3d1-795d-4cbd-cc5e-786d6f0750eb"
      },
      "execution_count": null,
      "outputs": [
        {
          "output_type": "stream",
          "name": "stdout",
          "text": [
            "Original dataset shape Counter({0: 199016, 1: 348})\n",
            "Resampled dataset shape Counter({0: 348, 1: 348})\n"
          ]
        }
      ]
    },
    {
      "cell_type": "code",
      "source": [
        "# Undersampling with Logist Regression\n",
        "lr_model = LogisticRegression()\n",
        "lr_model.fit(X_train_rus, y_train_rus)\n",
        "\n",
        "y_pred_rus = lr_model.predict(X_test)"
      ],
      "metadata": {
        "id": "k0qfLMQpqiM8"
      },
      "execution_count": null,
      "outputs": []
    },
    {
      "cell_type": "code",
      "source": [
        "print(\"Precision: {0:0.5f}\".format(metrics.precision_score(y_test,y_pred_rus)))\n",
        "print(\"Recall: {0:0.5f}\".format(metrics.recall_score(y_test,y_pred_rus)))\n",
        "print(\"F1: {0:0.5f}\".format(metrics.f1_score(y_test,y_pred_rus)))\n",
        "print(\"Accurecy :{0:0.5f}\".format(metrics.accuracy_score(y_test,y_pred_rus)))\n",
        "print(\"AUC :{0:0.5f}\".format(metrics.roc_auc_score(y_test,y_pred_rus)))"
      ],
      "metadata": {
        "colab": {
          "base_uri": "https://localhost:8080/"
        },
        "id": "6xNGjn0Sq845",
        "outputId": "6239cf9f-7a52-431d-e2aa-65b581c451a2"
      },
      "execution_count": null,
      "outputs": [
        {
          "output_type": "stream",
          "name": "stdout",
          "text": [
            "Precision: 0.05615\n",
            "Recall: 0.90972\n",
            "F1: 0.10577\n",
            "Accurecy :0.97408\n",
            "AUC :0.94195\n"
          ]
        }
      ]
    },
    {
      "cell_type": "code",
      "source": [
        "# Heatmap for Confusion Matrix\n",
        "cnf_matrix = metrics.confusion_matrix(y_test, y_pred_rus)\n",
        "sns.heatmap(pd.DataFrame(cnf_matrix), annot=True, annot_kws={\"size\":25}, cmap=\"winter\",fmt=\"g\")\n",
        "plt.title(\"Confusion matrix\", y=1.1, fontsize=22)\n",
        "plt.xlabel(\"Predicted\",fontsize=18)\n",
        "plt.ylabel(\"Actual\",fontsize = 18)\n",
        "plt.show()"
      ],
      "metadata": {
        "colab": {
          "base_uri": "https://localhost:8080/",
          "height": 528
        },
        "id": "xAZFlRWhvKbo",
        "outputId": "5f491b51-c671-4b27-f2cc-faf212b65334"
      },
      "execution_count": null,
      "outputs": [
        {
          "output_type": "display_data",
          "data": {
            "text/plain": [
              "<Figure size 640x480 with 2 Axes>"
            ],
            "image/png": "[encoded data removed]"
          },
          "metadata": {}
        }
      ]
    },
    {
      "cell_type": "markdown",
      "source": [
        "## 1.3. Logist Regretion with Random Oversampling technique"
      ],
      "metadata": {
        "id": "DbQZxX6QwKQS"
      }
    },
    {
      "cell_type": "code",
      "source": [
        "from imblearn.over_sampling import RandomOverSampler"
      ],
      "metadata": {
        "id": "jZHm2sVSwpyj"
      },
      "execution_count": null,
      "outputs": []
    },
    {
      "cell_type": "code",
      "source": [
        "print(\"Original  dataset %s\"%Counter(y_train))\n",
        "ros= RandomOverSampler(random_state=42)\n",
        "X_train_ros, y_train_ros = ros.fit_resample(X_train, y_train)\n",
        "print('Resampled dateset shape %s'%Counter(y_train_ros))"
      ],
      "metadata": {
        "colab": {
          "base_uri": "https://localhost:8080/"
        },
        "id": "f2xc5_yKwwMc",
        "outputId": "73ba92c1-60e7-47de-d753-d77c3f8118b4"
      },
      "execution_count": null,
      "outputs": [
        {
          "output_type": "stream",
          "name": "stdout",
          "text": [
            "Original  dataset Counter({0: 199016, 1: 348})\n",
            "Resampled dateset shape Counter({0: 199016, 1: 199016})\n"
          ]
        }
      ]
    },
    {
      "cell_type": "code",
      "source": [
        "lr_model = LogisticRegression()\n",
        "lr_model.fit(X_train_ros, y_train_ros)\n",
        "y_pred_ros = lr_model.predict(X_test)"
      ],
      "metadata": {
        "id": "X1AWUZAtxGS_"
      },
      "execution_count": null,
      "outputs": []
    },
    {
      "cell_type": "code",
      "source": [
        "# Heatmap for Confusion Matrix\n",
        "cnf_matrix = metrics.confusion_matrix(y_test, y_pred_ros)\n",
        "sns.heatmap(pd.DataFrame(cnf_matrix),annot=True, annot_kws={\"size\":25},cmap=\"winter\",fmt=\"g\")\n",
        "plt.title(\"Confusion matrix\", y=1.1, fontsize=22)\n",
        "plt.xlabel(\"Predicted\",fontsize = 18)\n",
        "plt.ylabel(\"Actual\", fontsize = 18)\n",
        "plt.show()"
      ],
      "metadata": {
        "colab": {
          "base_uri": "https://localhost:8080/",
          "height": 528
        },
        "id": "cVtT9mP3Lxka",
        "outputId": "aad6353a-531e-4412-81b7-66e607a1dd6c"
      },
      "execution_count": null,
      "outputs": [
        {
          "output_type": "display_data",
          "data": {
            "text/plain": [
              "<Figure size 640x480 with 2 Axes>"
            ],
            "image/png": "[encoded data removed]"
          },
          "metadata": {}
        }
      ]
    },
    {
      "cell_type": "markdown",
      "source": [
        "## Logist Regression with SMOTE data"
      ],
      "metadata": {
        "id": "5mO0bL9lNCcH"
      }
    },
    {
      "cell_type": "code",
      "source": [
        "from imblearn.over_sampling import SMOTE, ADASYN"
      ],
      "metadata": {
        "id": "dsalXX5xNXQr"
      },
      "execution_count": null,
      "outputs": []
    },
    {
      "cell_type": "code",
      "source": [
        "print('Original dataset shape %s' % Counter(y_train))\n",
        "smote = SMOTE(random_state=42)\n",
        "X_train_smote, y_train_smote = smote.fit_resample(X_train,y_train)\n",
        "print('Resampled dataset shape %s' % Counter(y_train_smote))"
      ],
      "metadata": {
        "colab": {
          "base_uri": "https://localhost:8080/"
        },
        "id": "xT4MH-zFNe5N",
        "outputId": "bba3f9c5-abad-4cf6-8119-870bfc0febc0"
      },
      "execution_count": null,
      "outputs": [
        {
          "output_type": "stream",
          "name": "stdout",
          "text": [
            "Original dataset shape Counter({0: 199016, 1: 348})\n",
            "Resampled dataset shape Counter({0: 199016, 1: 199016})\n"
          ]
        }
      ]
    },
    {
      "cell_type": "code",
      "source": [
        "# SMOTE Sampling with Logistic Regression\n",
        "lr_model = LogisticRegression(max_iter=1000)\n",
        "lr_model.fit(X_train_smote, y_train_smote)\n",
        "y_pred_smote = lr_model.predict(X_test)"
      ],
      "metadata": {
        "id": "eIgNsfS1OHAa"
      },
      "execution_count": null,
      "outputs": []
    },
    {
      "cell_type": "code",
      "source": [
        "print(\"Precision : {0:.5f}\".format(metrics.precision_score(y_test,y_pred_smote)))\n",
        "print(\"Recal : {0:.5f}\".format(metrics.recall_score(y_test,y_pred_smote)))\n",
        "print(\"F1 : {0:.5f}\".format(metrics.f1_score(y_test,y_pred_smote)))\n",
        "print(\"Accuracy: {0:.5f}\".format(metrics.accuracy_score(y_test,y_pred_smote)))\n",
        "print(\"AUC : {0:.5f}\".format(metrics.roc_auc_score(y_test,y_pred_smote)))"
      ],
      "metadata": {
        "colab": {
          "base_uri": "https://localhost:8080/"
        },
        "id": "yeHlr-kBO3fw",
        "outputId": "7f45d258-8b6e-47d9-c698-4506e8177b74"
      },
      "execution_count": null,
      "outputs": [
        {
          "output_type": "stream",
          "name": "stdout",
          "text": [
            "Precision : 0.05956\n",
            "Recal : 0.89583\n",
            "F1 : 0.11169\n",
            "Accuracy: 0.97598\n",
            "AUC : 0.93598\n"
          ]
        }
      ]
    },
    {
      "cell_type": "markdown",
      "source": [
        "## Logist Regression with ADASYN data"
      ],
      "metadata": {
        "id": "nd7ZEgOWPDlu"
      }
    },
    {
      "cell_type": "code",
      "source": [
        "print('Original dataset shape %s' % Counter(y_train))\n",
        "adasyn = ADASYN(random_state=42)\n",
        "X_train_adasyn, y_train_adasyn = adasyn.fit_resample(X_train,y_train)\n",
        "print('Resampled dataset shape %s' % Counter(y_train_adasyn))"
      ],
      "metadata": {
        "colab": {
          "base_uri": "https://localhost:8080/"
        },
        "id": "TH2VsXFbPYy6",
        "outputId": "d6249a35-e189-479d-d0ff-de2ec3ba9459"
      },
      "execution_count": null,
      "outputs": [
        {
          "output_type": "stream",
          "name": "stdout",
          "text": [
            "Original dataset shape Counter({0: 199016, 1: 348})\n",
            "Resampled dataset shape Counter({0: 199016, 1: 199012})\n"
          ]
        }
      ]
    },
    {
      "cell_type": "code",
      "source": [
        "# SMOTE Sampling with Logistic Regression\n",
        "lr_model = LogisticRegression()\n",
        "lr_model.fit(X_train_adasyn, y_train_adasyn)\n",
        "y_pred_adasyn = lr_model.predict(X_test)"
      ],
      "metadata": {
        "id": "yhstCpUTPw1c"
      },
      "execution_count": null,
      "outputs": []
    },
    {
      "cell_type": "code",
      "source": [
        "print(\"F1 : {0:.5f}\".format(metrics.f1_score(y_test,y_pred_adasyn)))\n",
        "print(\"Precision : {0:.5f}\".format(metrics.precision_score(y_test,y_pred_adasyn)))\n",
        "print(\"Recal : {0:.5f}\".format(metrics.recall_score(y_test,y_pred_adasyn)))\n",
        "print(\"\\n\")"
      ],
      "metadata": {
        "colab": {
          "base_uri": "https://localhost:8080/"
        },
        "id": "ZU4ozxV6QDSz",
        "outputId": "172e4783-818b-415f-bc4e-7b136a980170"
      },
      "execution_count": null,
      "outputs": [
        {
          "output_type": "stream",
          "name": "stdout",
          "text": [
            "F1 : 0.03768\n",
            "Precision : 0.01923\n",
            "Recal : 0.94444\n",
            "\n",
            "\n"
          ]
        }
      ]
    },
    {
      "cell_type": "markdown",
      "source": [
        "# Build the Models"
      ],
      "metadata": {
        "id": "5z-u-K2-WTz2"
      }
    },
    {
      "cell_type": "code",
      "source": [
        "from sklearn.linear_model import LogisticRegression\n",
        "from sklearn.tree import DecisionTreeClassifier\n",
        "from sklearn.ensemble import RandomForestClassifier\n",
        "from sklearn.svm import SVC\n",
        "from sklearn.neighbors import KNeighborsClassifier\n",
        "from sklearn.naive_bayes import GaussianNB\n",
        "import xgboost as xg"
      ],
      "metadata": {
        "id": "PaHbgQViZ8ES"
      },
      "execution_count": null,
      "outputs": []
    },
    {
      "cell_type": "code",
      "source": [
        "import time"
      ],
      "metadata": {
        "id": "PoJr_-8ufHrf"
      },
      "execution_count": null,
      "outputs": []
    },
    {
      "cell_type": "code",
      "source": [
        "names_lst = []\n",
        "\n",
        "# Performance lists\n",
        "precision_test_lst = []\n",
        "recall_test_lst = []\n",
        "f1_test_lst = []\n",
        "\n",
        "# Cost\n",
        "FP_cost = 5\n",
        "FN_cost = 50\n",
        "\n",
        "costs_lst = []\n",
        "time_lst = []\n",
        "\n",
        "best_param_list = []\n",
        "\n",
        "# Function for model building and performance measure\n",
        "def build_measure_model(models, hyper_tunned=False):\n",
        "\n",
        "  for name, model, X_train, y_train, X_test, y_test in models:\n",
        "    names_lst.append(name)\n",
        "\n",
        "    model.fit(X_train, y_train)\n",
        "\n",
        "    start_pred_time = time.time() #TIme\n",
        "    y_test_pred = model.predict(X_test)\n",
        "    end_pred_time = time.time() #Time\n",
        "\n",
        "    # Gettin the time\n",
        "    pred_time = end_pred_time - start_pred_time\n",
        "    time_lst.append(pred_time)\n",
        "\n",
        "    # Precision\n",
        "    Precision_test = metrics.precision_score(y_test, y_test_pred)\n",
        "    precision_test_lst.append(Precision_test)\n",
        "    # Recall\n",
        "    Recall_test = metrics.recall_score(y_test, y_test_pred)\n",
        "    recall_test_lst.append(Recall_test)\n",
        "    # F1\n",
        "    F1_test = metrics.f1_score(y_test, y_test_pred)\n",
        "    f1_test_lst.append(F1_test)\n",
        "\n",
        "\n",
        "\n",
        "    # Confusion Matrix\n",
        "    cnf_matrix = metrics.confusion_matrix(y_test, y_test_pred)\n",
        "\n",
        "    # Cost\n",
        "    tn, fp, fn, tp = cnf_matrix.ravel()\n",
        "    # Compute total cost\n",
        "    total_cost = (fp * FP_cost) + (fn * FN_cost)\n",
        "    costs_lst.append(total_cost)\n",
        "\n",
        "    print(\"Model:\", name)\n",
        "    print(\"Test Precision: {0:0.5f}\".format(Precision_test))\n",
        "    print(\"Test Recall: {0:0.5f}\".format(Recall_test))\n",
        "    print(\"Test F1: {0:0.5f}\".format(F1_test))\n",
        "\n",
        "    print(\"Confusion Matrix: \\n\", cnf_matrix)\n",
        "    print(\"\\n\")\n",
        "\n",
        "    # Saving model\n",
        "    # save the model\n",
        "    filename = name+'.pkl'\n",
        "    with open(filename, 'wb') as f:\n",
        "      pickle.dump(model, f)\n",
        "\n",
        "    if hyper_tunned:\n",
        "      best_parm = model.best_params_\n",
        "      best_parm['name'] = name\n",
        "      best_param_list.append(best_parm)"
      ],
      "metadata": {
        "id": "rYnelko5bHeb"
      },
      "execution_count": null,
      "outputs": []
    },
    {
      "cell_type": "markdown",
      "source": [
        "## Logistic Regression (LR)"
      ],
      "metadata": {
        "id": "uWJiUn0Ci9A1"
      }
    },
    {
      "cell_type": "code",
      "source": [
        "LRmodels = []\n",
        "lr = LogisticRegression()\n",
        "LRmodels.append(('LR imbalance', lr,X_train,y_train,X_test,y_test))\n",
        "LRmodels.append(('LR Undersampling', lr,X_train_rus,y_train_rus,X_test,y_test))\n",
        "LRmodels.append(('LR Oversampling', lr,X_train_ros,y_train_ros,X_test,y_test))\n",
        "LRmodels.append(('LR SMOTE',lr,X_train_smote,y_train_smote,X_test,y_test))\n",
        "LRmodels.append(('LR ADASYN', lr,X_train_adasyn,y_train_adasyn,X_test,y_test))\n",
        "\n",
        "build_measure_model(LRmodels)"
      ],
      "metadata": {
        "colab": {
          "base_uri": "https://localhost:8080/"
        },
        "id": "iE6ZkP4WjXlD",
        "outputId": "ee8732b5-b324-45e9-8f38-1943eb2a0dd5"
      },
      "execution_count": null,
      "outputs": [
        {
          "output_type": "stream",
          "name": "stdout",
          "text": [
            "Model: LR imbalance\n",
            "Test Precision: 0.89691\n",
            "Test Recall: 0.60417\n",
            "Test F1: 0.72199\n",
            "Confusion Matrix: \n",
            " [[85289    10]\n",
            " [   57    87]]\n",
            "\n",
            "\n",
            "Model: LR Undersampling\n",
            "Test Precision: 0.05615\n",
            "Test Recall: 0.90972\n",
            "Test F1: 0.10577\n",
            "Confusion Matrix: \n",
            " [[83097  2202]\n",
            " [   13   131]]\n",
            "\n",
            "\n",
            "Model: LR Oversampling\n",
            "Test Precision: 0.06476\n",
            "Test Recall: 0.89583\n",
            "Test F1: 0.12079\n",
            "Confusion Matrix: \n",
            " [[83436  1863]\n",
            " [   15   129]]\n",
            "\n",
            "\n",
            "Model: LR SMOTE\n",
            "Test Precision: 0.05956\n",
            "Test Recall: 0.89583\n",
            "Test F1: 0.11169\n",
            "Confusion Matrix: \n",
            " [[83262  2037]\n",
            " [   15   129]]\n",
            "\n",
            "\n",
            "Model: LR ADASYN\n",
            "Test Precision: 0.01923\n",
            "Test Recall: 0.94444\n",
            "Test F1: 0.03768\n",
            "Confusion Matrix: \n",
            " [[78361  6938]\n",
            " [    8   136]]\n",
            "\n",
            "\n"
          ]
        }
      ]
    },
    {
      "cell_type": "code",
      "source": [
        "DTmodels = []\n",
        "\n",
        "dt = DecisionTreeClassifier()\n",
        "\n",
        "DTmodels.append(('DT imbalance',dt,X_train,y_train,X_test,y_test))\n",
        "DTmodels.append(('DT Undersampling', dt,X_train_rus,y_train_rus,X_test,y_test))\n",
        "DTmodels.append(('DT Oversampling',dt,X_train_ros,y_train_ros,X_test,y_test))\n",
        "DTmodels.append(('DT SMOTE', dt,X_train_smote,y_train_smote,X_test,y_test))\n",
        "DTmodels.append(('DT ADASYN', dt,X_train_adasyn,y_train_adasyn,X_test,y_test))\n",
        "\n",
        "build_measure_model(DTmodels)"
      ],
      "metadata": {
        "colab": {
          "base_uri": "https://localhost:8080/"
        },
        "id": "4g4D5HbFlPDO",
        "outputId": "6b3f68b8-0efc-433f-d368-a1b3e2a0cc82"
      },
      "execution_count": null,
      "outputs": [
        {
          "output_type": "stream",
          "name": "stdout",
          "text": [
            "Model: DT imbalance\n",
            "Test Precision: 0.70779\n",
            "Test Recall: 0.75694\n",
            "Test F1: 0.73154\n",
            "Confusion Matrix: \n",
            " [[85254    45]\n",
            " [   35   109]]\n",
            "\n",
            "\n",
            "Model: DT Undersampling\n",
            "Test Precision: 0.01386\n",
            "Test Recall: 0.90278\n",
            "Test F1: 0.02730\n",
            "Confusion Matrix: \n",
            " [[76050  9249]\n",
            " [   14   130]]\n",
            "\n",
            "\n",
            "Model: DT Oversampling\n",
            "Test Precision: 0.82114\n",
            "Test Recall: 0.70139\n",
            "Test F1: 0.75655\n",
            "Confusion Matrix: \n",
            " [[85277    22]\n",
            " [   43   101]]\n",
            "\n",
            "\n",
            "Model: DT SMOTE\n",
            "Test Precision: 0.41538\n",
            "Test Recall: 0.75000\n",
            "Test F1: 0.53465\n",
            "Confusion Matrix: \n",
            " [[85147   152]\n",
            " [   36   108]]\n",
            "\n",
            "\n",
            "Model: DT ADASYN\n",
            "Test Precision: 0.44706\n",
            "Test Recall: 0.79167\n",
            "Test F1: 0.57143\n",
            "Confusion Matrix: \n",
            " [[85158   141]\n",
            " [   30   114]]\n",
            "\n",
            "\n"
          ]
        }
      ]
    },
    {
      "cell_type": "code",
      "source": [
        "RFmodels = []\n",
        "rf=RandomForestClassifier()\n",
        "RFmodels.append(('RF imbalance', rf, X_train,y_train,X_test,y_test))\n",
        "RFmodels.append(('RF Undersampling', rf,X_train_rus,y_train_rus,X_test,y_test))\n",
        "RFmodels.append(('RF Oversampling',rf,X_train_ros,y_train_ros,X_test,y_test))\n",
        "RFmodels.append(('RF SMOTE',rf,X_train_smote,y_train_smote,X_test,y_test))\n",
        "RFmodels.append(('RF ADASYN',rf,X_train_adasyn,y_train_adasyn,X_test,y_test))\n",
        "\n",
        "build_measure_model(RFmodels)"
      ],
      "metadata": {
        "colab": {
          "base_uri": "https://localhost:8080/"
        },
        "id": "n6nZbr4MmRWW",
        "outputId": "1c3bbd2c-24bf-42e6-ebd1-15ea0d879914"
      },
      "execution_count": null,
      "outputs": [
        {
          "output_type": "stream",
          "name": "stdout",
          "text": [
            "Model: RF imbalance\n",
            "Test Precision: 0.93496\n",
            "Test Recall: 0.79861\n",
            "Test F1: 0.86142\n",
            "Confusion Matrix: \n",
            " [[85291     8]\n",
            " [   29   115]]\n",
            "\n",
            "\n",
            "Model: RF Undersampling\n",
            "Test Precision: 0.04280\n",
            "Test Recall: 0.88194\n",
            "Test F1: 0.08165\n",
            "Confusion Matrix: \n",
            " [[82459  2840]\n",
            " [   17   127]]\n",
            "\n",
            "\n",
            "Model: RF Oversampling\n",
            "Test Precision: 0.95000\n",
            "Test Recall: 0.79167\n",
            "Test F1: 0.86364\n",
            "Confusion Matrix: \n",
            " [[85293     6]\n",
            " [   30   114]]\n",
            "\n",
            "\n",
            "Model: RF SMOTE\n",
            "Test Precision: 0.86861\n",
            "Test Recall: 0.82639\n",
            "Test F1: 0.84698\n",
            "Confusion Matrix: \n",
            " [[85281    18]\n",
            " [   25   119]]\n",
            "\n",
            "\n",
            "Model: RF ADASYN\n",
            "Test Precision: 0.87050\n",
            "Test Recall: 0.84028\n",
            "Test F1: 0.85512\n",
            "Confusion Matrix: \n",
            " [[85281    18]\n",
            " [   23   121]]\n",
            "\n",
            "\n"
          ]
        }
      ]
    },
    {
      "cell_type": "code",
      "source": [
        "SVMmodels = []\n",
        "\n",
        "SVMmodels.append(('SVM imbalance',SVC(gamma='auto'),X_train,y_train,X_test,y_test))\n",
        "SVMmodels.append(('SVM Undersampling', SVC(gamma='auto'),X_train_rus,y_train_rus,X_test,y_test))\n",
        "SVMmodels.append(('SVM Oversampling',SVC(gamma='auto'),X_train_ros,y_train_ros,X_test,y_test))\n",
        "SVMmodels.append(('SVM SMOTE', SVC(gamma='auto'),X_train_smote,y_train_smote,X_test,y_test))\n",
        "SVMmodels.append(('SVM ADASYN', SVC(gamma='auto'),X_train_adasyn,y_train_adasyn,X_test,y_test))\n",
        "\n",
        "build_measure_model(SVMmodels)"
      ],
      "metadata": {
        "id": "iwN0sWi3n6XI",
        "colab": {
          "base_uri": "https://localhost:8080/"
        },
        "outputId": "1acd3a1d-2681-465a-bf0d-37d9b36a6744"
      },
      "execution_count": null,
      "outputs": [
        {
          "output_type": "stream",
          "name": "stdout",
          "text": [
            "Model: SVM imbalance\n",
            "Test Precision: 0.95918\n",
            "Test Recall: 0.65278\n",
            "Test F1: 0.77686\n",
            "Confusion Matrix: \n",
            " [[85295     4]\n",
            " [   50    94]]\n",
            "\n",
            "\n",
            "Model: SVM Undersampling\n",
            "Test Precision: 0.02192\n",
            "Test Recall: 0.91667\n",
            "Test F1: 0.04282\n",
            "Confusion Matrix: \n",
            " [[79410  5889]\n",
            " [   12   132]]\n",
            "\n",
            "\n",
            "Model: SVM Oversampling\n",
            "Test Precision: 0.46544\n",
            "Test Recall: 0.70139\n",
            "Test F1: 0.55956\n",
            "Confusion Matrix: \n",
            " [[85183   116]\n",
            " [   43   101]]\n",
            "\n",
            "\n",
            "Model: SVM SMOTE\n",
            "Test Precision: 0.38610\n",
            "Test Recall: 0.69444\n",
            "Test F1: 0.49628\n",
            "Confusion Matrix: \n",
            " [[85140   159]\n",
            " [   44   100]]\n",
            "\n",
            "\n",
            "Model: SVM ADASYN\n",
            "Test Precision: 0.37308\n",
            "Test Recall: 0.67361\n",
            "Test F1: 0.48020\n",
            "Confusion Matrix: \n",
            " [[85136   163]\n",
            " [   47    97]]\n",
            "\n",
            "\n"
          ]
        }
      ]
    },
    {
      "cell_type": "code",
      "source": [
        "NBmodels = []\n",
        "NBmodels.append(('NB imbalance',GaussianNB(),X_train,y_train,X_test,y_test))\n",
        "NBmodels.append(('NB Undersampling', GaussianNB(),X_train_rus,y_train_rus,X_test,y_test))\n",
        "NBmodels.append(('NB Oversampling',GaussianNB(),X_train_ros,y_train_ros,X_test,y_test))\n",
        "NBmodels.append(('NB SMOTE', GaussianNB(),X_train_smote,y_train_smote,X_test,y_test))\n",
        "NBmodels.append(('NB ADASYN', GaussianNB(),X_train_adasyn,y_train_adasyn,X_test,y_test))\n",
        "\n",
        "build_measure_model(NBmodels)"
      ],
      "metadata": {
        "colab": {
          "base_uri": "https://localhost:8080/"
        },
        "id": "MgucwePqozpR",
        "outputId": "b9bbe465-b1ea-4691-e51c-24bbaf160bca"
      },
      "execution_count": null,
      "outputs": [
        {
          "output_type": "stream",
          "name": "stdout",
          "text": [
            "Model: NB imbalance\n",
            "Test Precision: 0.06087\n",
            "Test Recall: 0.84028\n",
            "Test F1: 0.11351\n",
            "Confusion Matrix: \n",
            " [[83432  1867]\n",
            " [   23   121]]\n",
            "\n",
            "\n",
            "Model: NB Undersampling\n",
            "Test Precision: 0.03505\n",
            "Test Recall: 0.86806\n",
            "Test F1: 0.06739\n",
            "Confusion Matrix: \n",
            " [[81858  3441]\n",
            " [   19   125]]\n",
            "\n",
            "\n",
            "Model: NB Oversampling\n",
            "Test Precision: 0.05315\n",
            "Test Recall: 0.85417\n",
            "Test F1: 0.10008\n",
            "Confusion Matrix: \n",
            " [[83108  2191]\n",
            " [   21   123]]\n",
            "\n",
            "\n",
            "Model: NB SMOTE\n",
            "Test Precision: 0.05395\n",
            "Test Recall: 0.85417\n",
            "Test F1: 0.10149\n",
            "Confusion Matrix: \n",
            " [[83142  2157]\n",
            " [   21   123]]\n",
            "\n",
            "\n",
            "Model: NB ADASYN\n",
            "Test Precision: 0.03562\n",
            "Test Recall: 0.88194\n",
            "Test F1: 0.06848\n",
            "Confusion Matrix: \n",
            " [[81861  3438]\n",
            " [   17   127]]\n",
            "\n",
            "\n"
          ]
        }
      ]
    },
    {
      "cell_type": "code",
      "source": [
        "xgb = xg.XGBClassifier()\n",
        "\n",
        "XGBmodels = []\n",
        "XGBmodels.append(('XGB imbalance',xgb,X_train,y_train,X_test,y_test))\n",
        "XGBmodels.append(('XGB Undersampling', xgb,X_train_rus,y_train_rus,X_test,y_test))\n",
        "XGBmodels.append(('XGB Oversampling',xgb,X_train_ros,y_train_ros,X_test,y_test))\n",
        "XGBmodels.append(('XGB SMOTE',xgb,X_train_smote,y_train_smote,X_test,y_test))\n",
        "XGBmodels.append(('XGB ADASYN',xgb,X_train_adasyn,y_train_adasyn,X_test,y_test))\n",
        "\n",
        "build_measure_model(XGBmodels)"
      ],
      "metadata": {
        "id": "1y621u5Uirj_"
      },
      "execution_count": null,
      "outputs": []
    },
    {
      "cell_type": "markdown",
      "source": [
        "### Preformance of various classifiers"
      ],
      "metadata": {
        "id": "ICgS1AYrp3P9"
      }
    },
    {
      "cell_type": "code",
      "source": [
        "names_lst"
      ],
      "metadata": {
        "colab": {
          "base_uri": "https://localhost:8080/"
        },
        "id": "D2wCMRtIbGty",
        "outputId": "2f195727-7675-4e08-d277-bbc4ce0810ca"
      },
      "execution_count": null,
      "outputs": [
        {
          "output_type": "execute_result",
          "data": {
            "text/plain": [
              "['LR imbalance',\n",
              " 'LR Undersampling',\n",
              " 'LR Oversampling',\n",
              " 'LR SMOTE',\n",
              " 'LR ADASYN',\n",
              " 'DT imbalance',\n",
              " 'DT Undersampling',\n",
              " 'DT Oversampling',\n",
              " 'DT SMOTE',\n",
              " 'DT ADASYN']"
            ]
          },
          "metadata": {},
          "execution_count": 32
        }
      ]
    },
    {
      "cell_type": "code",
      "source": [
        "data = {'Model': names_lst,\n",
        "        'PrecisionScore': precision_test_lst,\n",
        "        'RecallScore': recall_test_lst,\n",
        "        'F1Score': f1_test_lst,\n",
        "        'Time': time_lst,\n",
        "        'Cost': costs_lst\n",
        "        }\n",
        "\n",
        "print(\"Performance measures of various classifiers: \")\n",
        "performance_df = pd.DataFrame(data)\n",
        "performance_df.sort_values(['F1Score','RecallScore','PrecisionScore'],ascending=False)\n"
      ],
      "metadata": {
        "colab": {
          "base_uri": "https://localhost:8080/",
          "height": 851
        },
        "id": "ovbJQnxTqKRZ",
        "outputId": "3adfbe64-35a4-4cca-b76a-4e327b3c5c18"
      },
      "execution_count": null,
      "outputs": [
        {
          "output_type": "stream",
          "name": "stdout",
          "text": [
            "Performance measures of various classifiers: \n"
          ]
        },
        {
          "output_type": "execute_result",
          "data": {
            "text/plain": [
              "                Model  PrecisionScore  RecallScore   F1Score\n",
              "12    RF Oversampling        0.950000     0.791667  0.863636\n",
              "10       RF imbalance        0.934959     0.798611  0.861423\n",
              "14          RF ADASYN        0.870504     0.840278  0.855124\n",
              "13           RF SMOTE        0.868613     0.826389  0.846975\n",
              "15      SVM imbalance        0.959184     0.652778  0.776860\n",
              "7     DT Oversampling        0.821138     0.701389  0.756554\n",
              "5        DT imbalance        0.707792     0.756944  0.731544\n",
              "0        LR imbalance        0.896907     0.604167  0.721992\n",
              "9           DT ADASYN        0.447059     0.791667  0.571429\n",
              "17   SVM Oversampling        0.465438     0.701389  0.559557\n",
              "8            DT SMOTE        0.415385     0.750000  0.534653\n",
              "18          SVM SMOTE        0.386100     0.694444  0.496278\n",
              "19         SVM ADASYN        0.373077     0.673611  0.480198\n",
              "2     LR Oversampling        0.064759     0.895833  0.120787\n",
              "20       NB imbalance        0.060865     0.840278  0.113508\n",
              "3            LR SMOTE        0.059557     0.895833  0.111688\n",
              "1    LR Undersampling        0.056151     0.909722  0.105773\n",
              "23           NB SMOTE        0.053947     0.854167  0.101485\n",
              "22    NB Oversampling        0.053155     0.854167  0.100081\n",
              "11   RF Undersampling        0.042804     0.881944  0.081646\n",
              "24          NB ADASYN        0.035624     0.881944  0.068482\n",
              "21   NB Undersampling        0.035053     0.868056  0.067385\n",
              "16  SVM Undersampling        0.021923     0.916667  0.042822\n",
              "4           LR ADASYN        0.019225     0.944444  0.037684\n",
              "6    DT Undersampling        0.013861     0.902778  0.027302"
            ],
            "text/html": [
              "\n",
              "  <div id=\"df-82ef53e3-da73-4360-9a12-b7f6ea205dc3\" class=\"colab-df-container\">\n",
              "    <div>\n",
              "<style scoped>\n",
              "    .dataframe tbody tr th:only-of-type {\n",
              "        vertical-align: middle;\n",
              "    }\n",
              "\n",
              "    .dataframe tbody tr th {\n",
              "        vertical-align: top;\n",
              "    }\n",
              "\n",
              "    .dataframe thead th {\n",
              "        text-align: right;\n",
              "    }\n",
              "</style>\n",
              "<table border=\"1\" class=\"dataframe\">\n",
              "  <thead>\n",
              "    <tr style=\"text-align: right;\">\n",
              "      <th></th>\n",
              "      <th>Model</th>\n",
              "      <th>PrecisionScore</th>\n",
              "      <th>RecallScore</th>\n",
              "      <th>F1Score</th>\n",
              "    </tr>\n",
              "  </thead>\n",
              "  <tbody>\n",
              "    <tr>\n",
              "      <th>12</th>\n",
              "      <td>RF Oversampling</td>\n",
              "      <td>0.950000</td>\n",
              "      <td>0.791667</td>\n",
              "      <td>0.863636</td>\n",
              "    </tr>\n",
              "    <tr>\n",
              "      <th>10</th>\n",
              "      <td>RF imbalance</td>\n",
              "      <td>0.934959</td>\n",
              "      <td>0.798611</td>\n",
              "      <td>0.861423</td>\n",
              "    </tr>\n",
              "    <tr>\n",
              "      <th>14</th>\n",
              "      <td>RF ADASYN</td>\n",
              "      <td>0.870504</td>\n",
              "      <td>0.840278</td>\n",
              "      <td>0.855124</td>\n",
              "    </tr>\n",
              "    <tr>\n",
              "      <th>13</th>\n",
              "      <td>RF SMOTE</td>\n",
              "      <td>0.868613</td>\n",
              "      <td>0.826389</td>\n",
              "      <td>0.846975</td>\n",
              "    </tr>\n",
              "    <tr>\n",
              "      <th>15</th>\n",
              "      <td>SVM imbalance</td>\n",
              "      <td>0.959184</td>\n",
              "      <td>0.652778</td>\n",
              "      <td>0.776860</td>\n",
              "    </tr>\n",
              "    <tr>\n",
              "      <th>7</th>\n",
              "      <td>DT Oversampling</td>\n",
              "      <td>0.821138</td>\n",
              "      <td>0.701389</td>\n",
              "      <td>0.756554</td>\n",
              "    </tr>\n",
              "    <tr>\n",
              "      <th>5</th>\n",
              "      <td>DT imbalance</td>\n",
              "      <td>0.707792</td>\n",
              "      <td>0.756944</td>\n",
              "      <td>0.731544</td>\n",
              "    </tr>\n",
              "    <tr>\n",
              "      <th>0</th>\n",
              "      <td>LR imbalance</td>\n",
              "      <td>0.896907</td>\n",
              "      <td>0.604167</td>\n",
              "      <td>0.721992</td>\n",
              "    </tr>\n",
              "    <tr>\n",
              "      <th>9</th>\n",
              "      <td>DT ADASYN</td>\n",
              "      <td>0.447059</td>\n",
              "      <td>0.791667</td>\n",
              "      <td>0.571429</td>\n",
              "    </tr>\n",
              "    <tr>\n",
              "      <th>17</th>\n",
              "      <td>SVM Oversampling</td>\n",
              "      <td>0.465438</td>\n",
              "      <td>0.701389</td>\n",
              "      <td>0.559557</td>\n",
              "    </tr>\n",
              "    <tr>\n",
              "      <th>8</th>\n",
              "      <td>DT SMOTE</td>\n",
              "      <td>0.415385</td>\n",
              "      <td>0.750000</td>\n",
              "      <td>0.534653</td>\n",
              "    </tr>\n",
              "    <tr>\n",
              "      <th>18</th>\n",
              "      <td>SVM SMOTE</td>\n",
              "      <td>0.386100</td>\n",
              "      <td>0.694444</td>\n",
              "      <td>0.496278</td>\n",
              "    </tr>\n",
              "    <tr>\n",
              "      <th>19</th>\n",
              "      <td>SVM ADASYN</td>\n",
              "      <td>0.373077</td>\n",
              "      <td>0.673611</td>\n",
              "      <td>0.480198</td>\n",
              "    </tr>\n",
              "    <tr>\n",
              "      <th>2</th>\n",
              "      <td>LR Oversampling</td>\n",
              "      <td>0.064759</td>\n",
              "      <td>0.895833</td>\n",
              "      <td>0.120787</td>\n",
              "    </tr>\n",
              "    <tr>\n",
              "      <th>20</th>\n",
              "      <td>NB imbalance</td>\n",
              "      <td>0.060865</td>\n",
              "      <td>0.840278</td>\n",
              "      <td>0.113508</td>\n",
              "    </tr>\n",
              "    <tr>\n",
              "      <th>3</th>\n",
              "      <td>LR SMOTE</td>\n",
              "      <td>0.059557</td>\n",
              "      <td>0.895833</td>\n",
              "      <td>0.111688</td>\n",
              "    </tr>\n",
              "    <tr>\n",
              "      <th>1</th>\n",
              "      <td>LR Undersampling</td>\n",
              "      <td>0.056151</td>\n",
              "      <td>0.909722</td>\n",
              "      <td>0.105773</td>\n",
              "    </tr>\n",
              "    <tr>\n",
              "      <th>23</th>\n",
              "      <td>NB SMOTE</td>\n",
              "      <td>0.053947</td>\n",
              "      <td>0.854167</td>\n",
              "      <td>0.101485</td>\n",
              "    </tr>\n",
              "    <tr>\n",
              "      <th>22</th>\n",
              "      <td>NB Oversampling</td>\n",
              "      <td>0.053155</td>\n",
              "      <td>0.854167</td>\n",
              "      <td>0.100081</td>\n",
              "    </tr>\n",
              "    <tr>\n",
              "      <th>11</th>\n",
              "      <td>RF Undersampling</td>\n",
              "      <td>0.042804</td>\n",
              "      <td>0.881944</td>\n",
              "      <td>0.081646</td>\n",
              "    </tr>\n",
              "    <tr>\n",
              "      <th>24</th>\n",
              "      <td>NB ADASYN</td>\n",
              "      <td>0.035624</td>\n",
              "      <td>0.881944</td>\n",
              "      <td>0.068482</td>\n",
              "    </tr>\n",
              "    <tr>\n",
              "      <th>21</th>\n",
              "      <td>NB Undersampling</td>\n",
              "      <td>0.035053</td>\n",
              "      <td>0.868056</td>\n",
              "      <td>0.067385</td>\n",
              "    </tr>\n",
              "    <tr>\n",
              "      <th>16</th>\n",
              "      <td>SVM Undersampling</td>\n",
              "      <td>0.021923</td>\n",
              "      <td>0.916667</td>\n",
              "      <td>0.042822</td>\n",
              "    </tr>\n",
              "    <tr>\n",
              "      <th>4</th>\n",
              "      <td>LR ADASYN</td>\n",
              "      <td>0.019225</td>\n",
              "      <td>0.944444</td>\n",
              "      <td>0.037684</td>\n",
              "    </tr>\n",
              "    <tr>\n",
              "      <th>6</th>\n",
              "      <td>DT Undersampling</td>\n",
              "      <td>0.013861</td>\n",
              "      <td>0.902778</td>\n",
              "      <td>0.027302</td>\n",
              "    </tr>\n",
              "  </tbody>\n",
              "</table>\n",
              "</div>\n",
              "    <div class=\"colab-df-buttons\">\n",
              "\n",
              "  <div class=\"colab-df-container\">\n",
              "    <button class=\"colab-df-convert\" onclick=\"convertToInteractive('df-82ef53e3-da73-4360-9a12-b7f6ea205dc3')\"\n",
              "            title=\"Convert this dataframe to an interactive table.\"\n",
              "            style=\"display:none;\">\n",
              "\n",
              "  <svg xmlns=\"http://www.w3.org/2000/svg\" height=\"24px\" viewBox=\"0 -960 960 960\">\n",
              "    <path d=\"M120-120v-720h720v720H120Zm60-500h600v-160H180v160Zm220 220h160v-160H400v160Zm0 220h160v-160H400v160ZM180-400h160v-160H180v160Zm440 0h160v-160H620v160ZM180-180h160v-160H180v160Zm440 0h160v-160H620v160Z\"/>\n",
              "  </svg>\n",
              "    </button>\n",
              "\n",
              "  <style>\n",
              "    .colab-df-container {\n",
              "      display:flex;\n",
              "      gap: 12px;\n",
              "    }\n",
              "\n",
              "    .colab-df-convert {\n",
              "      background-color: #E8F0FE;\n",
              "      border: none;\n",
              "      border-radius: 50%;\n",
              "      cursor: pointer;\n",
              "      display: none;\n",
              "      fill: #1967D2;\n",
              "      height: 32px;\n",
              "      padding: 0 0 0 0;\n",
              "      width: 32px;\n",
              "    }\n",
              "\n",
              "    .colab-df-convert:hover {\n",
              "      background-color: #E2EBFA;\n",
              "      box-shadow: 0px 1px 2px rgba(60, 64, 67, 0.3), 0px 1px 3px 1px rgba(60, 64, 67, 0.15);\n",
              "      fill: #174EA6;\n",
              "    }\n",
              "\n",
              "    .colab-df-buttons div {\n",
              "      margin-bottom: 4px;\n",
              "    }\n",
              "\n",
              "    [theme=dark] .colab-df-convert {\n",
              "      background-color: #3B4455;\n",
              "      fill: #D2E3FC;\n",
              "    }\n",
              "\n",
              "    [theme=dark] .colab-df-convert:hover {\n",
              "      background-color: #434B5C;\n",
              "      box-shadow: 0px 1px 3px 1px rgba(0, 0, 0, 0.15);\n",
              "      filter: drop-shadow(0px 1px 2px rgba(0, 0, 0, 0.3));\n",
              "      fill: #FFFFFF;\n",
              "    }\n",
              "  </style>\n",
              "\n",
              "    <script>\n",
              "      const buttonEl =\n",
              "        document.querySelector('#df-82ef53e3-da73-4360-9a12-b7f6ea205dc3 button.colab-df-convert');\n",
              "      buttonEl.style.display =\n",
              "        google.colab.kernel.accessAllowed ? 'block' : 'none';\n",
              "\n",
              "      async function convertToInteractive(key) {\n",
              "        const element = document.querySelector('#df-82ef53e3-da73-4360-9a12-b7f6ea205dc3');\n",
              "        const dataTable =\n",
              "          await google.colab.kernel.invokeFunction('convertToInteractive',\n",
              "                                                    [key], {});\n",
              "        if (!dataTable) return;\n",
              "\n",
              "        const docLinkHtml = 'Like what you see? Visit the ' +\n",
              "          '<a target=\"_blank\" href=https://colab.research.google.com/notebooks/data_table.ipynb>data table notebook</a>'\n",
              "          + ' to learn more about interactive tables.';\n",
              "        element.innerHTML = '';\n",
              "        dataTable['output_type'] = 'display_data';\n",
              "        await google.colab.output.renderOutput(dataTable, element);\n",
              "        const docLink = document.createElement('div');\n",
              "        docLink.innerHTML = docLinkHtml;\n",
              "        element.appendChild(docLink);\n",
              "      }\n",
              "    </script>\n",
              "  </div>\n",
              "\n",
              "\n",
              "    <div id=\"df-307e5db8-75fc-4dc1-8cc2-f0cea05ce54b\">\n",
              "      <button class=\"colab-df-quickchart\" onclick=\"quickchart('df-307e5db8-75fc-4dc1-8cc2-f0cea05ce54b')\"\n",
              "                title=\"Suggest charts\"\n",
              "                style=\"display:none;\">\n",
              "\n",
              "<svg xmlns=\"http://www.w3.org/2000/svg\" height=\"24px\"viewBox=\"0 0 24 24\"\n",
              "     width=\"24px\">\n",
              "    <g>\n",
              "        <path d=\"M19 3H5c-1.1 0-2 .9-2 2v14c0 1.1.9 2 2 2h14c1.1 0 2-.9 2-2V5c0-1.1-.9-2-2-2zM9 17H7v-7h2v7zm4 0h-2V7h2v10zm4 0h-2v-4h2v4z\"/>\n",
              "    </g>\n",
              "</svg>\n",
              "      </button>\n",
              "\n",
              "<style>\n",
              "  .colab-df-quickchart {\n",
              "      --bg-color: #E8F0FE;\n",
              "      --fill-color: #1967D2;\n",
              "      --hover-bg-color: #E2EBFA;\n",
              "      --hover-fill-color: #174EA6;\n",
              "      --disabled-fill-color: #AAA;\n",
              "      --disabled-bg-color: #DDD;\n",
              "  }\n",
              "\n",
              "  [theme=dark] .colab-df-quickchart {\n",
              "      --bg-color: #3B4455;\n",
              "      --fill-color: #D2E3FC;\n",
              "      --hover-bg-color: #434B5C;\n",
              "      --hover-fill-color: #FFFFFF;\n",
              "      --disabled-bg-color: #3B4455;\n",
              "      --disabled-fill-color: #666;\n",
              "  }\n",
              "\n",
              "  .colab-df-quickchart {\n",
              "    background-color: var(--bg-color);\n",
              "    border: none;\n",
              "    border-radius: 50%;\n",
              "    cursor: pointer;\n",
              "    display: none;\n",
              "    fill: var(--fill-color);\n",
              "    height: 32px;\n",
              "    padding: 0;\n",
              "    width: 32px;\n",
              "  }\n",
              "\n",
              "  .colab-df-quickchart:hover {\n",
              "    background-color: var(--hover-bg-color);\n",
              "    box-shadow: 0 1px 2px rgba(60, 64, 67, 0.3), 0 1px 3px 1px rgba(60, 64, 67, 0.15);\n",
              "    fill: var(--button-hover-fill-color);\n",
              "  }\n",
              "\n",
              "  .colab-df-quickchart-complete:disabled,\n",
              "  .colab-df-quickchart-complete:disabled:hover {\n",
              "    background-color: var(--disabled-bg-color);\n",
              "    fill: var(--disabled-fill-color);\n",
              "    box-shadow: none;\n",
              "  }\n",
              "\n",
              "  .colab-df-spinner {\n",
              "    border: 2px solid var(--fill-color);\n",
              "    border-color: transparent;\n",
              "    border-bottom-color: var(--fill-color);\n",
              "    animation:\n",
              "      spin 1s steps(1) infinite;\n",
              "  }\n",
              "\n",
              "  @keyframes spin {\n",
              "    0% {\n",
              "      border-color: transparent;\n",
              "      border-bottom-color: var(--fill-color);\n",
              "      border-left-color: var(--fill-color);\n",
              "    }\n",
              "    20% {\n",
              "      border-color: transparent;\n",
              "      border-left-color: var(--fill-color);\n",
              "      border-top-color: var(--fill-color);\n",
              "    }\n",
              "    30% {\n",
              "      border-color: transparent;\n",
              "      border-left-color: var(--fill-color);\n",
              "      border-top-color: var(--fill-color);\n",
              "      border-right-color: var(--fill-color);\n",
              "    }\n",
              "    40% {\n",
              "      border-color: transparent;\n",
              "      border-right-color: var(--fill-color);\n",
              "      border-top-color: var(--fill-color);\n",
              "    }\n",
              "    60% {\n",
              "      border-color: transparent;\n",
              "      border-right-color: var(--fill-color);\n",
              "    }\n",
              "    80% {\n",
              "      border-color: transparent;\n",
              "      border-right-color: var(--fill-color);\n",
              "      border-bottom-color: var(--fill-color);\n",
              "    }\n",
              "    90% {\n",
              "      border-color: transparent;\n",
              "      border-bottom-color: var(--fill-color);\n",
              "    }\n",
              "  }\n",
              "</style>\n",
              "\n",
              "      <script>\n",
              "        async function quickchart(key) {\n",
              "          const quickchartButtonEl =\n",
              "            document.querySelector('#' + key + ' button');\n",
              "          quickchartButtonEl.disabled = true;  // To prevent multiple clicks.\n",
              "          quickchartButtonEl.classList.add('colab-df-spinner');\n",
              "          try {\n",
              "            const charts = await google.colab.kernel.invokeFunction(\n",
              "                'suggestCharts', [key], {});\n",
              "          } catch (error) {\n",
              "            console.error('Error during call to suggestCharts:', error);\n",
              "          }\n",
              "          quickchartButtonEl.classList.remove('colab-df-spinner');\n",
              "          quickchartButtonEl.classList.add('colab-df-quickchart-complete');\n",
              "        }\n",
              "        (() => {\n",
              "          let quickchartButtonEl =\n",
              "            document.querySelector('#df-307e5db8-75fc-4dc1-8cc2-f0cea05ce54b button');\n",
              "          quickchartButtonEl.style.display =\n",
              "            google.colab.kernel.accessAllowed ? 'block' : 'none';\n",
              "        })();\n",
              "      </script>\n",
              "    </div>\n",
              "\n",
              "    </div>\n",
              "  </div>\n"
            ],
            "application/vnd.google.colaboratory.intrinsic+json": {
              "type": "dataframe",
              "summary": "{\n  \"name\": \"performance_df\",\n  \"rows\": 25,\n  \"fields\": [\n    {\n      \"column\": \"Model\",\n      \"properties\": {\n        \"dtype\": \"string\",\n        \"num_unique_values\": 25,\n        \"samples\": [\n          \"DT ADASYN\",\n          \"LR Undersampling\",\n          \"RF Oversampling\"\n        ],\n        \"semantic_type\": \"\",\n        \"description\": \"\"\n      }\n    },\n    {\n      \"column\": \"PrecisionScore\",\n      \"properties\": {\n        \"dtype\": \"number\",\n        \"std\": 0.37611941551194955,\n        \"min\": 0.013860752745495255,\n        \"max\": 0.9591836734693877,\n        \"num_unique_values\": 25,\n        \"samples\": [\n          0.4470588235294118,\n          0.05615087869695671,\n          0.95\n        ],\n        \"semantic_type\": \"\",\n        \"description\": \"\"\n      }\n    },\n    {\n      \"column\": \"RecallScore\",\n      \"properties\": {\n        \"dtype\": \"number\",\n        \"std\": 0.09405215368703009,\n        \"min\": 0.6041666666666666,\n        \"max\": 0.9444444444444444,\n        \"num_unique_values\": 19,\n        \"samples\": [\n          0.7916666666666666,\n          0.7013888888888888,\n          0.8958333333333334\n        ],\n        \"semantic_type\": \"\",\n        \"description\": \"\"\n      }\n    },\n    {\n      \"column\": \"F1Score\",\n      \"properties\": {\n        \"dtype\": \"number\",\n        \"std\": 0.33132373593403164,\n        \"min\": 0.027302320697259266,\n        \"max\": 0.8636363636363636,\n        \"num_unique_values\": 25,\n        \"samples\": [\n          0.5714285714285714,\n          0.10577311263625354,\n          0.8636363636363636\n        ],\n        \"semantic_type\": \"\",\n        \"description\": \"\"\n      }\n    }\n  ]\n}"
            }
          },
          "metadata": {},
          "execution_count": 47
        }
      ]
    },
    {
      "cell_type": "code",
      "source": [
        "performance_df.to_csv(\"Performances_Results.csv\")"
      ],
      "metadata": {
        "id": "oa9vPNBZmUgP"
      },
      "execution_count": null,
      "outputs": []
    },
    {
      "cell_type": "markdown",
      "source": [
        "# HYPER PARAMETER TUNING"
      ],
      "metadata": {
        "id": "8gNLMFapr6vx"
      }
    },
    {
      "cell_type": "markdown",
      "source": [
        "## Grid Search"
      ],
      "metadata": {
        "id": "dBmND1TMtJAD"
      }
    },
    {
      "cell_type": "code",
      "source": [
        "from sklearn.model_selection import GridSearchCV"
      ],
      "metadata": {
        "id": "D9NQQEPOdK7y"
      },
      "execution_count": null,
      "outputs": []
    },
    {
      "cell_type": "markdown",
      "source": [
        "### Hyper Paramters Logistc Regression"
      ],
      "metadata": {
        "id": "9CztpR2JdSwJ"
      }
    },
    {
      "cell_type": "code",
      "source": [
        "lr_params = {\n",
        "    \"solver\": ['saga'],\n",
        "    \"penalty\": ['l1', 'l2'],\n",
        "    \"C\": [0.01, 0.1, 1, 10, 100],\n",
        "    \"max_iter\": [100000],\n",
        "    \"tol\": [1e-4, 1e-3, 1e-2]\n",
        "}\n",
        "\n",
        "grid_lr = GridSearchCV(LogisticRegression(), lr_params)\n",
        "\n",
        "LRmodels_h = []\n",
        "\n",
        "LRmodels_h.append(('LR Tuned imbalance', grid_lr,X_train,y_train,X_test,y_test))\n",
        "LRmodels_h.append(('LR Tuned Undersampling', grid_lr,X_train_rus,y_train_rus,X_test,y_test))\n",
        "LRmodels_h.append(('LR Tuned Oversampling', grid_lr,X_train_ros,y_train_ros,X_test,y_test))\n",
        "LRmodels_h.append(('LR Tuned SMOTE',grid_lr,X_train_smote,y_train_smote,X_test,y_test))\n",
        "LRmodels_h.append(('LR Tuned ADASYN', grid_lr,X_train_adasyn,y_train_adasyn,X_test,y_test))\n",
        "\n",
        "build_measure_model(LRmodels_h, True)"
      ],
      "metadata": {
        "id": "RwZAi35Mdawr"
      },
      "execution_count": null,
      "outputs": []
    },
    {
      "cell_type": "markdown",
      "source": [
        "### Hyper Parameters SVM"
      ],
      "metadata": {
        "id": "4928LCJLfFQV"
      }
    },
    {
      "cell_type": "code",
      "source": [
        "svm_params = {'C':[0.5, 0.7, 0.9, 1],\n",
        "              'kernel':['rbf','poly','sigmoid','linear']}\n",
        "\n",
        "grid_svm = GridSearchCV(SVC(), svm_params)\n",
        "\n",
        "SVMmodels_h = []\n",
        "\n",
        "SVMmodels_h.append(('SVM Tuned imbalance', grid_svm,X_train,y_train,X_test,y_test))\n",
        "SVMmodels_h.append(('SVM Tuned Undersampling', grid_svm,X_train_rus,y_train_rus,X_test,y_test))\n",
        "SVMmodels_h.append(('SVM Tuned Oversampling', grid_svm,X_train_ros,y_train_ros,X_test,y_test))\n",
        "SVMmodels_h.append(('SVM Tuned SMOTE',grid_svm,X_train_smote,y_train_smote,X_test,y_test))\n",
        "SVMmodels_h.append(('SVM Tuned ADASYN', grid_svm,X_train_adasyn,y_train_adasyn,X_test,y_test))\n",
        "\n",
        "build_measure_model(SVMmodels_h, True)"
      ],
      "metadata": {
        "colab": {
          "base_uri": "https://localhost:8080/"
        },
        "id": "5Gq80tYqpKIH",
        "outputId": "2508425c-0828-43fa-d08e-d3678e125ef3"
      },
      "execution_count": null,
      "outputs": [
        {
          "output_type": "stream",
          "name": "stdout",
          "text": [
            "SVC best estimator: \n",
            " SVC(C=0.5, kernel='linear')\n",
            "SVM f1 score: 0.09316\n"
          ]
        }
      ]
    },
    {
      "cell_type": "markdown",
      "source": [
        "### Hyper parameter Decision Tree Classifier"
      ],
      "metadata": {
        "id": "eSEyPSFLrzW6"
      }
    },
    {
      "cell_type": "code",
      "source": [
        "# Define the parameter grid\n",
        "dt_params = {\n",
        "    \"criterion\": [\"gini\", \"entropy\"],\n",
        "    \"max_depth\": [2, 3],\n",
        "    \"min_samples_leaf\": [5, 6],\n",
        "    \"min_samples_split\": [2, 5]\n",
        "}\n",
        "\n",
        "# Set up GridSearchCV for Decision Tree\n",
        "grid_dt = GridSearchCV(DecisionTreeClassifier(), dt_params)\n",
        "\n",
        "# Create list for storing model results\n",
        "DTmodels_h = []\n",
        "\n",
        "# Append model setups for different sampling techniques\n",
        "DTmodels_h.append(('DT Tuned imbalance', grid_dt, X_train, y_train, X_test, y_test))\n",
        "DTmodels_h.append(('DT Tuned Undersampling', grid_dt, X_train_rus, y_train_rus, X_test, y_test))\n",
        "DTmodels_h.append(('DT Tuned Oversampling', grid_dt, X_train_ros, y_train_ros, X_test, y_test))\n",
        "DTmodels_h.append(('DT Tuned SMOTE', grid_dt, X_train_smote, y_train_smote, X_test, y_test))\n",
        "DTmodels_h.append(('DT Tuned ADASYN', grid_dt, X_train_adasyn, y_train_adasyn, X_test, y_test))\n",
        "\n",
        "# Build and evaluate the models\n",
        "build_measure_model(DTmodels_h, True)"
      ],
      "metadata": {
        "colab": {
          "base_uri": "https://localhost:8080/"
        },
        "id": "uszOe4Uisrl3",
        "outputId": "a32f65aa-f2ae-4a74-e7eb-caecb3b99931"
      },
      "execution_count": null,
      "outputs": [
        {
          "output_type": "stream",
          "name": "stdout",
          "text": [
            "Fitting 5 folds for each of 8 candidates, totalling 40 fits\n",
            "Decision Tree best estimator:\n",
            " DecisionTreeClassifier(criterion='entropy', max_depth=2, min_samples_leaf=5)\n",
            "\n",
            "f1 Score: 0.08540\n"
          ]
        }
      ]
    },
    {
      "cell_type": "markdown",
      "source": [
        "### Hyper RF"
      ],
      "metadata": {
        "id": "5y1LfCMhkEZA"
      }
    },
    {
      "cell_type": "code",
      "source": [
        "# Updated parameter grid\n",
        "rf_params = {\n",
        "    'criterion': ['gini', 'entropy'],\n",
        "    'max_depth': [2],\n",
        "    'max_features': ['sqrt'],\n",
        "    'min_samples_leaf': [4, 6, 8],\n",
        "    'min_samples_split': [5, 7, 10],\n",
        "    'n_estimators': [20],\n",
        "    'bootstrap': [True, False]\n",
        "}\n",
        "\n",
        "# Set up GridSearchCV\n",
        "grid_rf = GridSearchCV(RandomForestClassifier(oob_score=True), rf_params)\n",
        "\n",
        "# Build list of tuned models\n",
        "RFmodels_h = []\n",
        "RFmodels_h.append(('RF Tuned imbalance', grid_rf, X_train, y_train, X_test, y_test))\n",
        "RFmodels_h.append(('RF Tuned Undersampling', grid_rf, X_train_rus, y_train_rus, X_test, y_test))\n",
        "RFmodels_h.append(('RF Tuned Oversampling', grid_rf, X_train_ros, y_train_ros, X_test, y_test))\n",
        "RFmodels_h.append(('RF Tuned SMOTE', grid_rf, X_train_smote, y_train_smote, X_test, y_test))\n",
        "RFmodels_h.append(('RF Tuned ADASYN', grid_rf, X_train_adasyn, y_train_adasyn, X_test, y_test))\n",
        "\n",
        "# Build and evaluate\n",
        "build_measure_model(RFmodels_h, True)\n"
      ],
      "metadata": {
        "id": "3UBeXefDvmYB"
      },
      "execution_count": null,
      "outputs": []
    },
    {
      "cell_type": "markdown",
      "source": [
        "### Hyper Nb"
      ],
      "metadata": {
        "id": "2wXsjmoy4rJs"
      }
    },
    {
      "cell_type": "code",
      "source": [
        "nb_params = {\n",
        "    'var_smoothing': [1e-9, 1e-8, 1e-7, 1e-6]\n",
        "}\n",
        "\n",
        "# Set up GridSearchCV\n",
        "grid_nb = GridSearchCV(GaussianNB(), nb_params)\n",
        "\n",
        "# Create model list\n",
        "NBmodels_h = []\n",
        "NBmodels_h.append(('NB Tuned imbalance', grid_nb, X_train, y_train, X_test, y_test))\n",
        "NBmodels_h.append(('NB Tuned Undersampling', grid_nb, X_train_rus, y_train_rus, X_test, y_test))\n",
        "NBmodels_h.append(('NB Tuned Oversampling', grid_nb, X_train_ros, y_train_ros, X_test, y_test))\n",
        "NBmodels_h.append(('NB Tuned SMOTE', grid_nb, X_train_smote, y_train_smote, X_test, y_test))\n",
        "NBmodels_h.append(('NB Tuned ADASYN', grid_nb, X_train_adasyn, y_train_adasyn, X_test, y_test))\n",
        "\n",
        "# Build and evaluate\n",
        "build_measure_model(NBmodels_h, True)"
      ],
      "metadata": {
        "id": "pTFh8C785srj"
      },
      "execution_count": null,
      "outputs": []
    },
    {
      "cell_type": "markdown",
      "source": [
        "### hyper XG boost"
      ],
      "metadata": {
        "id": "eaZmmSWy5tpM"
      }
    },
    {
      "cell_type": "code",
      "source": [
        "xgb_params = {\n",
        "    'learning_rate': [0.01, 0.05, 0.1],\n",
        "    'n_estimators': [100, 200, 300],\n",
        "    'max_depth': [3, 5, 7],\n",
        "    'min_child_weight': [1, 3, 5],\n",
        "    'scale_pos_weight': [1, 10, 100],  # Addressing imbalance\n",
        "    'subsample': [0.7, 0.8, 1],\n",
        "    'colsample_bytree': [0.7, 0.8, 1],\n",
        "    'objective': ['binary:logistic'],\n",
        "    'eval_metric': ['logloss', 'auc']\n",
        "}\n",
        "\n",
        "# Set up GridSearchCV\n",
        "grid_xgb = GridSearchCV(xg.XGBClassifier(), xgb_params)\n",
        "\n",
        "# Create model list\n",
        "XGBmodels_h = []\n",
        "XGBmodels_h.append(('XGB Tuned imbalance', grid_xgb, X_train, y_train, X_test, y_test))\n",
        "XGBmodels_h.append(('XGB Tuned Undersampling', grid_xgb, X_train_rus, y_train_rus, X_test, y_test))\n",
        "XGBmodels_h.append(('XGB Tuned Oversampling', grid_xgb, X_train_ros, y_train_ros, X_test, y_test))\n",
        "XGBmodels_h.append(('XGB Tuned SMOTE', grid_xgb, X_train_smote, y_train_smote, X_test, y_test))\n",
        "XGBmodels_h.append(('XGB Tuned ADASYN', grid_xgb, X_train_adasyn, y_train_adasyn, X_test, y_test))\n",
        "\n",
        "# Build and evaluate the models\n",
        "build_measure_model(XGBmodels_h, True)"
      ],
      "metadata": {
        "id": "1HGrnPpc5wy6"
      },
      "execution_count": null,
      "outputs": []
    },
    {
      "cell_type": "code",
      "source": [
        "# Analsing"
      ],
      "metadata": {
        "id": "iOyOHGvc6uo9"
      },
      "execution_count": null,
      "outputs": []
    },
    {
      "cell_type": "code",
      "source": [
        "data = {'Model': names_lst,\n",
        "        'PrecisionScore': precision_test_lst,\n",
        "        'RecallScore': recall_test_lst,\n",
        "        'F1Score': f1_test_lst,\n",
        "        'Time': time_lst,\n",
        "        'Cost': costs_lst\n",
        "        }\n",
        "\n",
        "print(\"Performance measures of various classifiers: \")\n",
        "performance_df = pd.DataFrame(data)\n",
        "performance_df.sort_values(['F1Score','RecallScore','PrecisionScore'],ascending=False)"
      ],
      "metadata": {
        "id": "R1Nvvkei6w3U"
      },
      "execution_count": null,
      "outputs": []
    },
    {
      "cell_type": "code",
      "source": [
        "performance_df.to_csv(\"Performances_Results.csv\")"
      ],
      "metadata": {
        "id": "Mj-9B48-632L"
      },
      "execution_count": null,
      "outputs": []
    }
  ]
}